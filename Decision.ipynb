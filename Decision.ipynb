{
  "nbformat": 4,
  "nbformat_minor": 0,
  "metadata": {
    "colab": {
      "provenance": [],
      "include_colab_link": true
    },
    "kernelspec": {
      "display_name": "Python 3",
      "name": "python3"
    },
    "language_info": {
      "name": "python"
    }
  },
  "cells": [
    {
      "cell_type": "markdown",
      "metadata": {
        "id": "view-in-github",
        "colab_type": "text"
      },
      "source": [
        "<a href=\"https://colab.research.google.com/github/syt1298/Data-extraction-from-patents/blob/main/Decision.ipynb\" target=\"_parent\"><img src=\"https://colab.research.google.com/assets/colab-badge.svg\" alt=\"Open In Colab\"/></a>"
      ]
    },
    {
      "cell_type": "code",
      "metadata": {
        "colab": {
          "base_uri": "https://localhost:8080/"
        },
        "id": "4cX08nTIDlVu",
        "outputId": "a67ec4a2-5dc6-4d33-bbd6-64e68d2910fe"
      },
      "source": [
        "from google.colab import drive\n",
        "drive.mount(\"/content/drive\")"
      ],
      "execution_count": null,
      "outputs": [
        {
          "output_type": "stream",
          "name": "stdout",
          "text": [
            "Drive already mounted at /content/drive; to attempt to forcibly remount, call drive.mount(\"/content/drive\", force_remount=True).\n"
          ]
        }
      ]
    },
    {
      "cell_type": "code",
      "metadata": {
        "colab": {
          "base_uri": "https://localhost:8080/"
        },
        "id": "wtDKb7-rD23_",
        "outputId": "7030d44e-8380-4c75-fc24-659e32d0917f"
      },
      "source": [
        "%cd /content/drive/MyDrive/PTAB Big Data Project/Project\\ Data/DATA\\ 2016-17/Txt\\ Files/"
      ],
      "execution_count": null,
      "outputs": [
        {
          "output_type": "stream",
          "name": "stdout",
          "text": [
            "/content/drive/MyDrive/PTAB Big Data Project/Project Data/DATA 2016-17/Txt Files\n"
          ]
        }
      ]
    },
    {
      "cell_type": "code",
      "metadata": {
        "colab": {
          "base_uri": "https://localhost:8080/",
          "height": 35
        },
        "id": "CAgQEP2oEJF4",
        "outputId": "3257b185-878d-4017-8209-e792cbadeed4"
      },
      "source": [
        "%pwd"
      ],
      "execution_count": null,
      "outputs": [
        {
          "output_type": "execute_result",
          "data": {
            "application/vnd.google.colaboratory.intrinsic+json": {
              "type": "string"
            },
            "text/plain": [
              "'/content/drive/MyDrive/PTAB Big Data Project/Project Data/DATA 2016-17/Txt Files'"
            ]
          },
          "metadata": {},
          "execution_count": 3
        }
      ]
    },
    {
      "cell_type": "code",
      "metadata": {
        "colab": {
          "base_uri": "https://localhost:8080/",
          "height": 35
        },
        "id": "frrITWJMFW9k",
        "outputId": "b8b7f85e-0659-40f5-dcca-3637951fa8bf"
      },
      "source": [
        "import os\n",
        "cur_dir = os.path.realpath(\"/content/drive/My Drive/PTAB Big Data Project/Project Data/DATA 2016-17/Txt Files\")\n",
        "cur_dir"
      ],
      "execution_count": null,
      "outputs": [
        {
          "output_type": "execute_result",
          "data": {
            "application/vnd.google.colaboratory.intrinsic+json": {
              "type": "string"
            },
            "text/plain": [
              "'/content/drive/My Drive/PTAB Big Data Project/Project Data/DATA 2016-17/Txt Files'"
            ]
          },
          "metadata": {},
          "execution_count": 4
        }
      ]
    },
    {
      "cell_type": "code",
      "metadata": {
        "id": "0zS2QbAlG4Ne"
      },
      "source": [
        "f = open(cur_dir + '/2016-01-05_2013006797_DECISION.pdf.txt');\n",
        "text =f.read()\n",
        "text = text.lower()"
      ],
      "execution_count": null,
      "outputs": []
    },
    {
      "cell_type": "code",
      "metadata": {
        "id": "2Z-9cLsPEhM0"
      },
      "source": [
        "import regex as re\n",
        "\n"
      ],
      "execution_count": null,
      "outputs": []
    },
    {
      "cell_type": "code",
      "metadata": {
        "id": "YVyjIh8swfSB",
        "colab": {
          "base_uri": "https://localhost:8080/",
          "height": 100
        },
        "outputId": "43982061-2367-4be4-bffc-eb0213d10f26"
      },
      "source": [
        "text"
      ],
      "execution_count": null,
      "outputs": [
        {
          "output_type": "execute_result",
          "data": {
            "application/vnd.google.colaboratory.intrinsic+json": {
              "type": "string"
            },
            "text/plain": [
              "'united sta tes p a tent and trademark office   application no.   filing date   first named inventor   attorney docket no.   confirmation no.   111880,453   07/19/2007   roderick a. hyde   0307-004-004-000000   7738   7590   44765  01/07/2016  intellectual ventures  - isf  attn:  docketing, isf  3150 - 139th ave se  bldg.4  bellevue, wa 98005   united states department of commerce  united states patent and trademark office  address:  commissioner for patents   p.o. box  1450  alexandria, virginia 22313-1450  www .uspto.gov   examiner   brusca, johns   art unit   paper number   1631   notification date   delivery mode   01107/2016   electronic   please find below and/or attached an office communication concerning this application or proceeding.   the time period for reply, if any, is  set in the attached communication.   notice  of  the  office  communication  was  sent  electronically  on  above-indicated  \"notification  date\"  to  the  following e-mail address( es):   isfdocketlnbox@intven.com   ptol-90a (rev.  04/07)    \\n united states patent and trademark office   before the patent trial and appeal board   ex parte roderick a.  hyde, muriel y.  ishikawa,  eric c.  leuthardt, dennis j.  rivet, and  lowell l. wood jr.   appeal2013-006797  application 11/880,453  technology center 1600   before donald e.  adams, jeffrey n.  fredman, and  ta wen chang, administrative patent judges.   fredman, administrative patent judge.   decision on appeal   this is an appeal 1 under 35 u.s.c.  § 134 involving claims to a method   for analyzing mitochondrial dna information for use in clinical trials.  the   examiner rejected the claims as obvious.  we have jurisdiction under 35   u.s.c.  § 6(b).  we vacate and enter new grounds of rejection.   1 appellants identify the real party in interest as  searete, llc (see  app.  br.  3).    \\n appeal2013-006797  application 11/880,453   statement of the case   the  claims 2   claims 1,3,5,6,8, 11,  14,22,26,28,29,31,34,37,40,44,45,47,   49--52,  55, 56, 58, 61,  67,  69,  70, 72, 73, 75, 78, 79,  81,  88,  89, 93  and 95   are on appeal.  independent claim 1 is representative and reads as follows:   1.   a method comprising:  determining, with a computing device, at least one   statistical correlation between at least one aspect of  mitochondrial dna information regarding at least one  individual and information regarding at least one clinical  outcome following receipt by the at least one individual of at  least one medical therapy, wherein the mitochondrial dna  information includes information regarding mitochondrial  dna sequence;   creating, in a computing device, at least one inclusion   criterion and at least one exclusion criterion based on the  determined at least one statistical correlation for a clinical  trial involving the at least one medical therapy;   communicating the statistical correlation, the at  least   one inclusion criterion and the at least one exclusion  criterion to at least one system user;   determining, in a computing device, an eligibility of at   least one second individual for at least one clinical trial,  wherein the at least one second individual is a plurality of  people; and   determining, in a computing device, the eligibility of   the at least one second individual for at least one clinical  trial, wherein the determining is based on the created at least  one inclusion criterion and the created at least one exclusion  criterion.   2  claims 57 and 80 were identified as withdrawn from prosecution  (see claims appendix).   2    \\n appeal2013-006797  application 11/880,453   the issues   a.   the examiner rejected claims 1,  3,  5,  8,  14, 22, 26, 28, 31, 37, 40, 44,   45, 47, 49, 51, 52, 58, 61,  67,  69,  70, 72, 75,  81,  88,  89, 93, and 95  under 35   u.s.c.  § 103(a) as  obvious over naviaux, 3  martin, 4  wallace, 5  graettinger, 6   palella, 7  and migliore 8  (final act.  4--8).   b.   the examiner rejected claims  1,  6,  26, 29, 45, 50, 70, and 73  under 35   u.s.c.  § 103(a) as obvious over naviaux, martin, wallace, graettinger,   palella, migliore, and ng 9  (final act.  9-10).   3 naviaux, r., developing a systematic approach to  the diagnosis  and classification of mitochondrial disease,  4 mitochondrion  351-361  (2004).  4  martin et al., accumulation of mitochondrial dna mutations in  human immunodeficiency virus-infected patients treated with  nucleoside-analogue reverse-transcriptase inhibitors,  72  american j.  human genetics  549-560 (2003).  5  wallace et al., us 2005/0123913 al, published june 9, 2005.  6  graettinger et al., us 5,839,438, issued nov. 24,  1998.  7  palella et al., declining morbidity and mortality among patients  with advanced human immunodeficiency virus infection,  338  new england j. medicine  853-860 (1998).  8  migliore et al., evaluation of cytogenetic and dna damage in  mitochondrial disease patients: effects of coenzyme qi 0 therapy,  19 mutagenesis  43--49 (2004).  9  ng et al., mitochondrial dna a3243g mutation in patients with  early- or late-onset type 2 diabetes mellitus in hong kong  chinese,  52 clinical endocrinology  557-564 (2000).   3    \\n appeal2013-006797  application 11/880,453   c.   the examiner rejected claims  1,  11, 26, 34, 45,  55, 70, and 78 under   35 u.s.c.  § 103(a) as obvious over naviaux, martin, wallace, graettinger,   palella, migliore, and tan 10  (final act.  10-11).   d.   the examiner rejected claims 45,  56, 70, and 79 under 35 u.s.c.   § 103(a) as obvious over naviaux, martin, wallace, graettinger, palella,   migliore, and lin 11  (final act.  12-13).   we vacate the examiner\\'s rejection and enter the following new   grounds of rejection.   new grounds of rejection 12   new grounds of rejection.   under the provisions of 37 c.f.r.  § 41.50(b ),  we enter the following   10  tan et al.,  comprehensive scanning of somatic mitochondrial  dna mutations in breast cancer,  62  cancer res.  972-97 6  (2002).  11  lin et al., proton mr spectroscopy in  the diagnostic evaluation  of suspected mitochondrial disease, 24 american j.  neuroradiology 33--41  (2003).  12  we leave to the examiner to consider the obviousness of the  remaining pending claims in light of our findings and conclusions  regarding claim 1.  the fact that we did not enter new grounds of  rejection for the remaining claims should not be construed to mean  that we consider these claims to be unobvious over the prior art of  record.   4    \\n appeal2013-006797  application 11/880,453   claim 1 is rejected under 35 u.s.c.  § 103(a) as obvious over fink, 13   papaconstantinou, 14  and washizuka. 15   c~ims 1,3,5,6,8, 11,  14,22,26,28,29,31,34,37,40,44,45,47,   49--52,  55, 56, 58, 61,  67,  69,  70, 72, 73, 75, 78, 79,  81,  88,  89, 93  and 95   are rejected under 35 u.s.c.  § 101  as being directed to patent ineligible   subject matter.   35  usc§ 103(a)   washizuka render claim 1 obvious?   findings of fact   the issue is:  does the combination of fink, papaconstantinou, and   1.   fink teaches \"an expert system that helps to select patients for   clinical trials\" (fink 241, abstract).  fink teaches that the system \"can   improve the speed and accuracy of selecting trial participants\" (fink 252,   col.  1 to 2).   2.   fink teaches   physicians at the moffitt cancer center have about 150  clinical trials available for cancer patients.  they have  identified criteria that determine a patient\\'s eligibility for   13  fink et al., selection of patients for clinical trials:  an interactive  web-based system, 31  artificial intelligence in medicine 241- 254 (2004).  14  papaconstantinou et al., an expert system for assigning patients  into clinical trials based on bayesian networks,  http://www.cs.umass.edu/~mahadeva/papers/expert.ps.gz (1997).  15  washizuka et al., possible relationship between mitochondrial  dna polymorphisms and lithium response in bipolar disorder,  6  int.  j. neuropsychopharmacology 421--424 (2003).   5    \\n appeal2013-006797  application 11/880,453   each trial, and they use these criteria to  select trials for  eligible patients.  traditionally, physicians have selected  trials by a manual analysis of patients\\' data.  the review of  resulting selections has shown that they usually do not check  all clinical trials and occasionally miss an appropriate trial.  to  address this problem, we have developed an expert  system that helps to select trials for each patient.   (fink 242, col.  2 to 243, col.  1).   3.   fink teaches a \"knowledge base [that]  includes questions,   medical tests, and logical expressions that represent eligibility criteria for   each trial\" (fink 243, col. 2).   4.   fink teaches that \"the system continuously re-evaluates the   patient\\'s eligibility and shows the decision for each trial.  if the patient is   ineligible for some trials, the user can find out the reasons by clicking the   \\'why\\' button\" (fink 246, col.  1)   5.   fink teaches that   if the knowledge base includes multiple clinical trials, the  system checks a patient\\'s eligibility for each of them.  it first  prompts the clinician to enter the personal data for a patient,  then asks for the tests related to multiple trials, and finally  requests additional tests for specific trials.  after getting  each new answer, the system re-evaluates the patient\\'s  eligibility for each trial.  it displays the list of matching  trials, rejected trials, and trials that require additional  information.   (fink 244, col.  1 ).   6    \\n appeal2013-006797  application 11/880,453   6.   figure 1 of fink, reproduced in part below, shows   examples of eligibility criteria for a particular clinical trial:   \\'l l}l:  ~.·::: :· ii:\\'_(j  t   ::  1.  ::::.t~.:::  ~:::  ·\\'.~.~   :,~  ::(\\'.:.:_::::o.k.  ~~-~i: ·~:t  .r:.  -~ ~~~-:::·;j  ()~{~.   •  ·: h.rnr ..  ~u-~·:  fvj  f.n-::,;:_i,;:-1:  :·::·~:h:-..·t~:::i.t:.h;;·,.  ;~s.  h1~·)o.-:;:_  :< )}  !\"··:·:·:.  •  ..-~~·  ;ih  :: : 1 f~~i:·f:;.:  :::.~..:   7.   papaconstantinou teaches that \"[ e ]ligibility determination for   entry into a clinical trial is based upon specific inclusion and exclusion   criteria.  this paper investigates the use of an expert system to assist the   physician through this task\" (papaconstantinou abstract).   8.   papaconstantinou teaches that the \"user interacts with the   system via a world wide web (www) browser ... the physician logs in   to the system and s/he selects a patient to be evaluated by searching a list of   patients\" (papaconstantinou 7).   9.   papaconstantinou teaches that \"[u]sing ... preexisting   knowledge  [about the patient], the system does an initial propagation and   outputs a patient eligibility score for each protocol available ... when a   protocol is selected for evaluation, all inclusion and exclusion criteria are   presented to the user\" (papaconstantinou 7).   10.   papaconstantinou teaches that the \"expert system approach   appears to be a useful tool to assist physicians in evaluating patients for   entry into clinical protocols\" (papaconstantinou 12).   7    \\n appeal2013-006797  application 11/880,453   as reproduced below:   \"\\'.  l..~:~::•:..>l  >.n.   ,•   \\'   .........  ••,•.  :·::~\\'.\\'.:):_·:::~:._;..·   11.   figure 1 of papaconstantinou teaches sample eligibility criteria   __  i:  \\':,,,  d\\'\"\\'\"i\\'·\"  lk .. ;-~-1   ~·~.h  .-.1n~i   ·,-·-  :n  ~:/:\\':l::.:·- ..   : l.-1.:1::·::;•:_·   ::_l:   \"l :r:u·:y:·  ~~.:.:-·~·1:·;•::·   :;  :1:1.:1  ~.fi  1·:1:   \\'.::1   ;<~-:··~-i:·:\"..::   ~:(:,~;_  ·:j::;< .. 1:.~c.:<:  -in:i  ::1n:.-.i.:   ~<~;.·rr:·::r  =.~j .. .1n   .: .. :1  •:.:.1:   ,:_::.·.:.  :.r\\'  k·:i:· :·  ,·,:.1::  :-.!  ::.\\'v   •h~l~p(·:>:·;  :\\':r:·i·:·  :·:··:··(·:>:.(.•~  ·..:.::  .. 1::1<  \\'·.  :1:::::1  n•·,:k·<  : :r:1<·  d\\'.n:• :.···:··  .,.,;  -,, .. :·::1:.1::.  :   :·:~:-  1::1~-i:.  •:·::r·,;·d.,_·~··:-.  :_:.  ;·1:·  :~  :1.\\'.~;::::1~··.·   _:)   -  -  \\\\.\\\\\"~~:  ;:i  ~r:~ff::·1:=1:·1:  ;y;  : .. in;•  :·_.k1:··:::.  :<  r<·::·i:-l~_:..·  ·:·::1~1;::r:·  ;·ir  .{  ~~··:·>.;\\'\"   :·::··  -:.:i:·)·:·l:~::  :·d  ·:·,;·~  :\\'.-:··:···:-~:·1;·[   ; ::).(1  · .. ,.·~::.;·l~:l  >:~  ~l;:.:\"j:·l:i.;·l::.  :/ ~(·~·.;~  ::.~·.:,::·~: .. •.\\')   \\'   ()  __  }·:.  ::.:·l:··  p::t::.;:··~i:  ;•\\'.r:·~·:··~j:  ~-;:  ·~:;··(·  :··,~   :::._:·:··::t~.;·   :··::t~i··-;   :·;.  __  :},[  :·iw  \\'\\'\\'\"\\'\\'\\' :1::   \\'jd\\'..\\':   ::.\":\">·  :.t.h\\'.i::1u:.i  :.,:\"\\'\\'\\'   :.·ct:j\\'.  ::.   :..1:·   ~  1_:  :.1.;.~: j\\'.l\":-_::>:   [\".\\\\:!\"\\'\\'\\'.   :t:·i~\\'.:,~:l\\'-.  \\'.]•l;,,,j  ~\\'.j  :~l~\\'  ~·::1·i=  \\'-.:.[\\'.~\\'~\\':\\\\  .:   h:i:\\'..  ~::h:  :>:t\\'.  ~~·~n  ~:·1..:1d   .}.   ~-~,:ir  c~t~·~l::a>1::·~.:1~:.-\"\\':  ~::ir  ~ij~·:.  b~\"   :::1:.l(\\\\\\'\\'  ::.::·  ::iff,  ::,;·:,:-::·::1uf:\\'  l1:::::r; .. ;·  :/ ,m·c  ::;-,,.,.  ::::\"  :1   ;::::·-.,  :::\\'::!\\'\\'  :::::::1,.:·   \"figure  1:  a sample protocol for breast cancer\" (papaconstantinou 2).   12.  washizuka teaches \"the association of mitochondrial dna   (mtdna) 5178 and 10398 polymorphisms with bipolar disorder ... our   findings  suggest that the mtdna 10398 polymorphism might be related to   maintenance lithium treatment response\" (washizuka 421, abstract).   8    \\n appeal2013-006797  application 11/880,453   13.   table 1 of washizuka is reproduced, in part, below:   \\'non--1\"1.~pond~~r   all  patkn~   (n::.:.: 2c~~   21/.~3   \\' _,•\\'.\\\\_  c   .13  {3g_2 ;-:.-~r.~  \\'.!.l  {6.l.7 ;·:.·~r.~   -:±  (20j){>~,,.)  ~ 6  (sojy>~\\'>)   17  (\">\\'l ~t ·~~.)  .·37  (6r5 \\'»~.)   14.  washizuka teaches that, \"[f]or statistical analysis, logistic  regression analysis, x2 test, mann-whitney u test, and student\\'s t test were  applied using the spss software\" (washizuka 423, col.  1).   15.  washizuka teaches that the \"mtdna polymorphisms, 5178c>a   and 10398a>g, were genotyped in [the]  samples by pcr-restriction   fragment length polymorphism methods\" (washizuka 422, col. 2 to 423, col.   1 ).   16.  washizuka teaches that \"the mtdna 10398a polymorphism   may be a genetic marker predicting maintenance lithium treatment response   in patients with bipolar disorder.  further study should be performed to   replicate the present finding in a larger sample\" (washizuka 423, col. 2 to   424, col.  1 ).   principles of law   \"the combination of familiar elements according to known methods   is likely to be obvious when it does no more than yield predictable results.\"   ksr int\\'! co.  v.  teleflex inc.,  550 u.s.  398, 416 (2007). \"if a person of   ordinary skill can implement a predictable variation, § 103  likely bars its   patentability.\" id.  at 417.   9    \\n appeal2013-006797  application 11/880,453   analysis   fink and papaconstantinou teach creating, in a computing device,   inclusion and exclusion criterion for clinical trials that involve medical   therapy (ff  1-3, 7).  fink and papaconstantinou teach communicating the   inclusion and exclusion criterion to a system user (ff 5, 9-10).  fink and   papaconstantinou teach determining the eligibility of an individual patient   for a clinical trial based on inclusion and exclusion criteria (ff 2,  4,  9-10).   while fink and papaconstantinou teach a variety of inclusion and   exclusion criteria for selecting patients for clinical trials of a medical therapy   (ff 6,  11 ), neither fink nor papaconstantinou teaches eligibility criteria   based on mitochondrial dna information statistically associated with a   clinical outcome for a medical therapy.   washizuka teaches determining, with a computing device, specifically   spss  software (ff  14), a statistical correlation between the mitochondrial   dna polymorphism at position 10398 and the response of patients with   bipolar disorder to medical therapy with the drug lithium (ff  12-13).   washizuka teaches that the mitochondrial dna polymorphoism represents   information regading the mitochondrial dna sequence of particular patients   (ff  15).   applying the ksr standard of obviousness to the findings of fact,  we   conclude that the person of ordinary skill reasonably would have found it   obvious to apply the clinical trial software of fink and papaconstantinou to   any desirable clinical trial using relevant inclusion and/or exclusion criteria.   washizuka teaches a clinical trial of patients with bipolar disorder with a   statistical correlation between mitochondiral dna information regarding   10    \\n appeal2013-006797  application 11/880,453   mtdna 10398a polymorphism and the patients\\' response to the medical   therapy of lithium (ff12-14).  washizuka expressly teaches that \"[f]urther   study should be performed to replicate the present finding in a larger   sample\" (ff  16).   thus, the ordinary artisan, interested in replicating washizuka\\'s   clinical trial in a larger sample, would have utilized washizuka\\'s statistical   correlation between the mtdna 10398a polymorphism and lithium   response as an inclusion criterion in order to analyze relevant patients (ff   12-16), and would have been further motivated to utilize the computerized   clinical trial software of fink and papaconstantinou because these systems   \"can improve the speed and accuracy of selecting trial participants\" (ff  1)   and \"appear[] to be a useful tool to assist physicians in evaluating patients   for entry into clinical protocols\" (ff  10).  such a combination is merely a   \"predictable use of prior art elements according to their established   functions.\" ksr, 550 u.s.  at 417.   conclusion of law   claim 1 obvious.   the combination of fink, papaconstantinou, and washizuka renders   35 us.c. § 101  patent-eligible subject matter is defined in 35 u.s.c.  § 101:   whoever invents or discovers any new and useful process,  machine, manufacture, or composition of matter, or any new  and useful improvement thereof, may obtain a patent  therefor, subject to the conditions and requirements of this  title.   11    \\n appeal2013-006797  application 11/880,453   there are three limited, judicially-created exceptions to the broad   categories of patent-eligible subject matter in § 101:  laws of nature; natural   phenomena; and abstract ideas.  mayo  collaborative servs.  v.  prometheus   labs., inc.,  132  s.  ct.  1289,  1293  (2012).  in alice corp.  pty.  ltd.  v.  cls   bankint\\'l, 134 s.  ct.  2347 (2014), the supreme court reiterated the   framework set forth previously in mayo  \"for distinguishing patents that   claim laws of nature, natural phenomena, and abstract ideas from those that   claim patent-eligible applications of these concepts.\"  alice,  134 s.  ct.  at   2355.   the first step in the analysis is to \"determine whether the claims at   issue are directed to one of those patent-ineligible concepts.\"  id.  if they are   directed to a patent-ineligible concept, the second step in the analysis is to   consider the elements of the claims \"individually and \\'as an ordered   combination\\'\" to determine whether there are additional elements that   \"\\'transform the nature of the claim\\' into a patent-eligible application.\"  id.   (quoting mayo,  132  s.  ct.  at  1297).  in other words, the second step is to   \"search for an \\'inventive concept\\' - i.e., an element or combination of   elements that is  \\'sufficient to ensure that the patent in practice amounts to   significantly more than a patent upon the  [ineligible concept] itself.\"\\'  id.   (brackets in original) (quoting mayo,  132  s.  ct.  at  1294).   alice involved \"a method of exchanging financial obligations between   two parties using a third-party intermediary to mitigate settlement risk.\"   alice, 134 s.  ct.  at 2356.  like the method of hedging risk in bilski v.   kappas,  561  u.s.  593  (2010)-which the court deemed \"a method of   organizing human activity\" - alice\\'s \"concept of intermediated settlement\"   12    \\n appeal2013-006797  application 11/880,453   was held to be \"\\'a fundamental economic practice long prevalent in our   system of commerce.\"\\'  134 s.  ct.  at 2356.  similarly, the court found that   \"[ t ]he use of a third-party intermediary ... is also a building block of the   modem economy.\"  id.  \"thus,\" the court held, \"intermediated settlement   ... is an \\'abstract idea\\' beyond the scope of § 101.\"  id.   claim 1 of the instant application is directed to a computer-aided   method for determining participation by a patient in a clinical trial for a   medical therapy that involves steps of determining statistical information   associating mitochondrial dna information with clinical outcomes of a   medical therapy, creating inclusion and exclusion criterion based on that   information for a clinical trial of the medical therapy, communicating the   statistical information, inclusion, and exclusion criterion, and determining   eligibility of patients for the therapy based on the inclusion and exclusion   criterion.   11).   in this regard, claim 1 is directed to the abstract idea of how to   determine participation in a clinical trial.  as evidenced by the obviousness   rejection above, determining statistical correlations between mitochondrial   dna information and clinical outcome is not an inventive concept (ff  12-  16), nor is the use of a computer to create and communicate inclusion and   exclusion criteria that determine eligibility for clinical trials inventive (ff  1-  now that we have completed the first step of determining whether the   claims recite an abstract idea, we tum to the second step outlined in alice,   i.e., we determine whether the recitations in claim 1 such as \"determining,   with a computing device\" or \"creating, in a computing device\" relate to an   13    \\n appeal2013-006797  application 11/880,453   inventive concept that is significantly more than the abstract idea of how to   determine participation in a clinical trial.  we conclude that it does not.   the recitations of \"determining, with a computing device\" or   \"creating, in a computing device\" amount to little more than reciting that the   computer system applies the abstract idea of how to determine participation   in alice, the court turned to its previous decisions in mayo, bilski,   diamondv. diehr, 450 u.s.  175  (1981), parkerv. flook, 437 u.s.  584   (1978), and gottschalkv. benson, 409 u.s.  63  (1972) as  instructive on this   in a clinical trial.   question:   [mayo,  bilski, diehr, flook, and benson] demonstrate that  the mere recitation of a generic computer cannot transform a  patent-ineligible abstract idea into a patent-eligible  invention.  stating an abstract idea \"while adding the words  \\'apply it\\'\" is not enough for patent eligibility .... nor is  limiting the use of an abstract \"\\'to a particular technological  environment.\" ... stating an abstract idea while adding the  words \"apply it with a computer\" simply combines those  two steps, with the same deficient result.  thus, if a patent\\'s  recitation of a computer amounts to a mere instruction to  \"implemen[t]\" an abstract idea \"on ... a computer,\" ... that  addition cannot impart patent eligibility.  this conclusion  accords with the pre-emption concern that undergirds our §  101 jurisprudence.  given the ubiquity of computers ... ,  wholly generic computer implementation is not generally the  sort of \"additional featur[ e ]\" that provides any \"practical   14    \\n appeal2013-006797  application 11/880,453   assurance that the process is more than a drafting effort  designed to monopolize the  [abstract idea] itself.\"   alice,  134 s.  ct.  at 2358 (internal citations omitted).   we also reject the remaining claims on appeal under 35 u.s.c.  § 101.   these claims recite patent ineligible subject matter as well because they   either are similarly flawed as claim 1 in stating abstract ideas that are simply   implemented on computers, as in the case of independent claims 26, 45, 70,   and 89, or include the patent-ineligible subject matter recited in the   independent claims and merely further define the rules used to determine   participation in the clinical trial.  as such, the remaining claims may further   define the abstract idea of claim 1 but do not add an inventive concept that is   significantly more than the abstract idea.   summary   in summary, we vacate the examiner\\'s prior art rejections.   we reject claim 1under35 u.s.c.  § 103(a) as obvious over fink,   papaconstantinou, and washizuka.   we reject claims 1,  3,  5,  6,  8,  11,  14, 22, 26, 28, 29, 31, 34, 37, 40, 44,   45,47,49--52,55,56,58,61,67,69, 70, 72, 73, 75, 78, 79,  81,  88,  89,93   and 95  under 35 u.s.c.  § 101  as being directed to patent ineligible subject   matter.   this decision contains new grounds of rejection pursuant to 37 c.f.r.   § 41.50(b) (effective september 13, 2004, 69 fed. reg.  49960 (august 12,   2004),  1286 off.  gaz.  pat.  office 21  (september 7,  2004)).  37 c.f.r.   15    \\n appeal2013-006797  application 11/880,453   § 41.50(b) provides that \"[a] new ground of rejection pursuant to this   paragraph shall not be considered final for judicial review.\"   37 c.f.r. § 41.50(b) also provides that the appellants, within   two months from the date of the decision, must exercise   one of the following two options with respect to the new ground of rejection   to avoid termination of the appeal as to the rejected claims:   ( 1) reopen prosecution.  submit an appropriate amendment  of the claims so rejected or new evidence relating to the  claims so rejected, or both, and have the matter reconsidered  by the examiner, in which event the proceeding will be  remanded to the examiner.  . . .  (2) request rehearing.  request that the proceeding be  reheard under § 41.52 by the board upon the same record ...   vacated, 37 c.f.r.  § 41.50(b)   dm   16    \\n '"
            ]
          },
          "metadata": {},
          "execution_count": 7
        }
      ]
    },
    {
      "cell_type": "code",
      "metadata": {
        "id": "07NuE7eowWza"
      },
      "source": [
        "text.index(\"we have jurisdiction\")"
      ],
      "execution_count": null,
      "outputs": []
    },
    {
      "cell_type": "code",
      "metadata": {
        "id": "O1tf1DScvwXD"
      },
      "source": [
        "result = re.search(r'we\\s*have\\s*jurisdiction',text)"
      ],
      "execution_count": null,
      "outputs": []
    },
    {
      "cell_type": "code",
      "metadata": {
        "id": "eS9HrhQYwtPF"
      },
      "source": [
        "result.start()"
      ],
      "execution_count": null,
      "outputs": []
    },
    {
      "cell_type": "code",
      "metadata": {
        "id": "RGvhQef-w5q_"
      },
      "source": [
        "re.search(r'we\\s[a-z\\s]*\\.',text[result.start():])"
      ],
      "execution_count": null,
      "outputs": []
    },
    {
      "cell_type": "code",
      "metadata": {
        "id": "zsowZEq-1kzm"
      },
      "source": [
        "decision.captures()"
      ],
      "execution_count": null,
      "outputs": []
    },
    {
      "cell_type": "code",
      "metadata": {
        "id": "-VET8MIfEoTJ"
      },
      "source": [
        "(re.search(r'affirm\\.*([^\\n]+)',text))\n"
      ],
      "execution_count": null,
      "outputs": []
    },
    {
      "cell_type": "code",
      "metadata": {
        "id": "GFkobrHWTiU_"
      },
      "source": [],
      "execution_count": null,
      "outputs": []
    },
    {
      "cell_type": "code",
      "metadata": {
        "id": "-9oZJRX_Hzj9"
      },
      "source": [
        "index = str(re.search(r'affirm\\.*([^\\n]+)',text))\n",
        "\n"
      ],
      "execution_count": null,
      "outputs": []
    },
    {
      "cell_type": "code",
      "metadata": {
        "id": "i3fY7Ur7Z4y9"
      },
      "source": [
        "data = []\n",
        "if index in text:\n",
        "    data.append([f.name, 'Affirmed'])\n",
        "else:\n",
        "    data.append([f.name, 'Not affirmed'])"
      ],
      "execution_count": null,
      "outputs": []
    },
    {
      "cell_type": "code",
      "metadata": {
        "id": "v8YKTsPwbGiM"
      },
      "source": [
        "import pandas as pd\n"
      ],
      "execution_count": null,
      "outputs": []
    },
    {
      "cell_type": "code",
      "metadata": {
        "id": "XxSUC6PYGeoT",
        "colab": {
          "base_uri": "https://localhost:8080/",
          "height": 1000
        },
        "outputId": "3e690354-4590-41ea-ed8c-0d756b7fd224"
      },
      "source": [
        "data = []\n",
        "count = 0\n",
        "for filename in os.listdir(cur_dir):\n",
        "    if count == 2000:\n",
        "      break\n",
        "    # checking if it is a file\n",
        "    count += 1\n",
        "    if os.path.isfile(filename):\n",
        "        f = open(cur_dir+\"/\"+filename)\n",
        "        text = f.read()\n",
        "        text = text.lower()\n",
        "        result = re.search(r'we\\s*have\\s*jurisdiction',text)\n",
        "        try:\n",
        "            app_no = str(re.search(\"[0-9]{2}\\/[0-9]{3},[0-9]{3}\",text[:1600]).captures()[0]).strip()\n",
        "        except:\n",
        "            app_no = ''\n",
        "        if result is not None:\n",
        "            decision = re.search(r'we\\s*[a-z\\s\\-]*\\.',text[result.start()+1:])\n",
        "            try:\n",
        "                decision = decision.captures()[0]\n",
        "                data.append([app_no,filename,decision, decision[3:]])\n",
        "            except:\n",
        "                data.append([app_no,filename,'', ''])\n",
        "        else:\n",
        "            data.append([app_no,filename,'', ''])\n",
        "df = pd.DataFrame(data, columns=['Application No.','Text','Decision Text', 'Decision'])\n",
        "df.head(60)"
      ],
      "execution_count": null,
      "outputs": [
        {
          "output_type": "execute_result",
          "data": {
            "text/html": [
              "<div>\n",
              "<style scoped>\n",
              "    .dataframe tbody tr th:only-of-type {\n",
              "        vertical-align: middle;\n",
              "    }\n",
              "\n",
              "    .dataframe tbody tr th {\n",
              "        vertical-align: top;\n",
              "    }\n",
              "\n",
              "    .dataframe thead th {\n",
              "        text-align: right;\n",
              "    }\n",
              "</style>\n",
              "<table border=\"1\" class=\"dataframe\">\n",
              "  <thead>\n",
              "    <tr style=\"text-align: right;\">\n",
              "      <th></th>\n",
              "      <th>Application No.</th>\n",
              "      <th>Text</th>\n",
              "      <th>Decision Text</th>\n",
              "      <th>Decision</th>\n",
              "    </tr>\n",
              "  </thead>\n",
              "  <tbody>\n",
              "    <tr>\n",
              "      <th>0</th>\n",
              "      <td>13/229,379</td>\n",
              "      <td>2016-09-21_2015000311_DECISION.pdf.txt</td>\n",
              "      <td>we affirm.</td>\n",
              "      <td>affirm.</td>\n",
              "    </tr>\n",
              "    <tr>\n",
              "      <th>1</th>\n",
              "      <td>11/720,384</td>\n",
              "      <td>2016-09-21_2015000657_DECISION.pdf.txt</td>\n",
              "      <td>we affirm.</td>\n",
              "      <td>affirm.</td>\n",
              "    </tr>\n",
              "    <tr>\n",
              "      <th>2</th>\n",
              "      <td>12/958,103</td>\n",
              "      <td>2016-09-21_2015000757_DECISION.pdf.txt</td>\n",
              "      <td>we affirm.</td>\n",
              "      <td>affirm.</td>\n",
              "    </tr>\n",
              "    <tr>\n",
              "      <th>3</th>\n",
              "      <td>10/900,415</td>\n",
              "      <td>2016-09-21_2015000769_DECISION.pdf.txt</td>\n",
              "      <td>we affirm.</td>\n",
              "      <td>affirm.</td>\n",
              "    </tr>\n",
              "    <tr>\n",
              "      <th>4</th>\n",
              "      <td>11/855,922</td>\n",
              "      <td>2016-09-21_2015000880_DECISION.pdf.txt</td>\n",
              "      <td>we affirm-in-part.</td>\n",
              "      <td>affirm-in-part.</td>\n",
              "    </tr>\n",
              "    <tr>\n",
              "      <th>5</th>\n",
              "      <td>14/013,135</td>\n",
              "      <td>2016-09-21_2015000959_DECISION.pdf.txt</td>\n",
              "      <td>we affirm-in-part.</td>\n",
              "      <td>affirm-in-part.</td>\n",
              "    </tr>\n",
              "    <tr>\n",
              "      <th>6</th>\n",
              "      <td>13/518,963</td>\n",
              "      <td>2016-09-21_2015001470_DECISION.pdf.txt</td>\n",
              "      <td>we affirm.</td>\n",
              "      <td>affirm.</td>\n",
              "    </tr>\n",
              "    <tr>\n",
              "      <th>7</th>\n",
              "      <td>13/482,029</td>\n",
              "      <td>2016-09-21_2015001644_DECISION.pdf.txt</td>\n",
              "      <td>we affirm.</td>\n",
              "      <td>affirm.</td>\n",
              "    </tr>\n",
              "    <tr>\n",
              "      <th>8</th>\n",
              "      <td>12/748,141</td>\n",
              "      <td>2016-09-21_2015001714_DECISION.pdf.txt</td>\n",
              "      <td>we reverse for reasons given by lam.</td>\n",
              "      <td>reverse for reasons given by lam.</td>\n",
              "    </tr>\n",
              "    <tr>\n",
              "      <th>9</th>\n",
              "      <td>13/130,672</td>\n",
              "      <td>2016-09-21_2015001746_DECISION.pdf.txt</td>\n",
              "      <td>we reverse.</td>\n",
              "      <td>reverse.</td>\n",
              "    </tr>\n",
              "    <tr>\n",
              "      <th>10</th>\n",
              "      <td>11/968,278</td>\n",
              "      <td>2016-09-21_2015001789_DECISION.pdf.txt</td>\n",
              "      <td>we reverse.</td>\n",
              "      <td>reverse.</td>\n",
              "    </tr>\n",
              "    <tr>\n",
              "      <th>11</th>\n",
              "      <td>12/016,324</td>\n",
              "      <td>2016-09-21_2015001790_DECISION.pdf.txt</td>\n",
              "      <td>we affirm.</td>\n",
              "      <td>affirm.</td>\n",
              "    </tr>\n",
              "    <tr>\n",
              "      <th>12</th>\n",
              "      <td>13/126,914</td>\n",
              "      <td>2016-09-21_2015002015_DECISION.pdf.txt</td>\n",
              "      <td>we affirm.</td>\n",
              "      <td>affirm.</td>\n",
              "    </tr>\n",
              "    <tr>\n",
              "      <th>13</th>\n",
              "      <td>11/966,887</td>\n",
              "      <td>2016-09-21_2015002402_DECISION.pdf.txt</td>\n",
              "      <td>we reverse.</td>\n",
              "      <td>reverse.</td>\n",
              "    </tr>\n",
              "    <tr>\n",
              "      <th>14</th>\n",
              "      <td>12/131,395</td>\n",
              "      <td>2016-09-21_2015002464_DECISION.pdf.txt</td>\n",
              "      <td>we affirm.</td>\n",
              "      <td>affirm.</td>\n",
              "    </tr>\n",
              "    <tr>\n",
              "      <th>15</th>\n",
              "      <td>12/808,013</td>\n",
              "      <td>2016-09-21_2015002499_DECISION.pdf.txt</td>\n",
              "      <td>we affirm.</td>\n",
              "      <td>affirm.</td>\n",
              "    </tr>\n",
              "    <tr>\n",
              "      <th>16</th>\n",
              "      <td>12/738,306</td>\n",
              "      <td>2016-09-21_2015002932_DECISION.pdf.txt</td>\n",
              "      <td>we affirm.</td>\n",
              "      <td>affirm.</td>\n",
              "    </tr>\n",
              "    <tr>\n",
              "      <th>17</th>\n",
              "      <td>13/165,769</td>\n",
              "      <td>2016-09-21_2015003055_DECISION.pdf.txt</td>\n",
              "      <td>we affirm in part.</td>\n",
              "      <td>affirm in part.</td>\n",
              "    </tr>\n",
              "    <tr>\n",
              "      <th>18</th>\n",
              "      <td>12/964,362</td>\n",
              "      <td>2016-09-21_2015003096_DECISION.pdf.txt</td>\n",
              "      <td>we reverse.</td>\n",
              "      <td>reverse.</td>\n",
              "    </tr>\n",
              "    <tr>\n",
              "      <th>19</th>\n",
              "      <td>12/632,943</td>\n",
              "      <td>2016-09-21_2015003104_DECISION.pdf.txt</td>\n",
              "      <td>we affirm.</td>\n",
              "      <td>affirm.</td>\n",
              "    </tr>\n",
              "    <tr>\n",
              "      <th>20</th>\n",
              "      <td>12/978,859</td>\n",
              "      <td>2016-09-21_2015003114_DECISION.pdf.txt</td>\n",
              "      <td>we affirm-in-part.</td>\n",
              "      <td>affirm-in-part.</td>\n",
              "    </tr>\n",
              "    <tr>\n",
              "      <th>21</th>\n",
              "      <td>13/164,267</td>\n",
              "      <td>2016-09-21_2015003157_DECISION.pdf.txt</td>\n",
              "      <td>we reverse.</td>\n",
              "      <td>reverse.</td>\n",
              "    </tr>\n",
              "    <tr>\n",
              "      <th>22</th>\n",
              "      <td>13/309,039</td>\n",
              "      <td>2016-09-21_2015003180_DECISION.pdf.txt</td>\n",
              "      <td>we affirm.</td>\n",
              "      <td>affirm.</td>\n",
              "    </tr>\n",
              "    <tr>\n",
              "      <th>23</th>\n",
              "      <td>13/490,020</td>\n",
              "      <td>2016-09-21_2015003201_DECISION.pdf.txt</td>\n",
              "      <td></td>\n",
              "      <td></td>\n",
              "    </tr>\n",
              "    <tr>\n",
              "      <th>24</th>\n",
              "      <td>13/223,313</td>\n",
              "      <td>2016-09-21_2015003342_DECISION.pdf.txt</td>\n",
              "      <td>we affirm.</td>\n",
              "      <td>affirm.</td>\n",
              "    </tr>\n",
              "    <tr>\n",
              "      <th>25</th>\n",
              "      <td>13/332,812</td>\n",
              "      <td>2016-09-21_2015003373_DECISION.pdf.txt</td>\n",
              "      <td>we affirm.</td>\n",
              "      <td>affirm.</td>\n",
              "    </tr>\n",
              "    <tr>\n",
              "      <th>26</th>\n",
              "      <td>12/255,439</td>\n",
              "      <td>2016-09-21_2015003507_DECISION.pdf.txt</td>\n",
              "      <td>we affirm.</td>\n",
              "      <td>affirm.</td>\n",
              "    </tr>\n",
              "    <tr>\n",
              "      <th>27</th>\n",
              "      <td>12/989,822</td>\n",
              "      <td>2016-09-21_2015003531_DECISION.pdf.txt</td>\n",
              "      <td>we affirm.</td>\n",
              "      <td>affirm.</td>\n",
              "    </tr>\n",
              "    <tr>\n",
              "      <th>28</th>\n",
              "      <td>13/384,764</td>\n",
              "      <td>2016-09-21_2015003744_DECISION.pdf.txt</td>\n",
              "      <td>we affirm-in-part.</td>\n",
              "      <td>affirm-in-part.</td>\n",
              "    </tr>\n",
              "    <tr>\n",
              "      <th>29</th>\n",
              "      <td>12/362,664</td>\n",
              "      <td>2016-09-21_2015003763_DECISION.pdf.txt</td>\n",
              "      <td>we affirm.</td>\n",
              "      <td>affirm.</td>\n",
              "    </tr>\n",
              "    <tr>\n",
              "      <th>30</th>\n",
              "      <td>13/381,078</td>\n",
              "      <td>2016-09-21_2015003921_DECISION.pdf.txt</td>\n",
              "      <td></td>\n",
              "      <td></td>\n",
              "    </tr>\n",
              "    <tr>\n",
              "      <th>31</th>\n",
              "      <td>13/030,273</td>\n",
              "      <td>2016-09-21_2015003941_DECISION.pdf.txt</td>\n",
              "      <td></td>\n",
              "      <td></td>\n",
              "    </tr>\n",
              "    <tr>\n",
              "      <th>32</th>\n",
              "      <td>12/933,092</td>\n",
              "      <td>2016-09-21_2015004053_DECISION.pdf.txt</td>\n",
              "      <td>we reverse the stated rejections.</td>\n",
              "      <td>reverse the stated rejections.</td>\n",
              "    </tr>\n",
              "    <tr>\n",
              "      <th>33</th>\n",
              "      <td>10/733,727</td>\n",
              "      <td>2016-09-21_2015004069_DECISION.pdf.txt</td>\n",
              "      <td>we affirm.</td>\n",
              "      <td>affirm.</td>\n",
              "    </tr>\n",
              "    <tr>\n",
              "      <th>34</th>\n",
              "      <td>13/356,766</td>\n",
              "      <td>2016-09-21_2015004205_DECISION.pdf.txt</td>\n",
              "      <td>we affirm.</td>\n",
              "      <td>affirm.</td>\n",
              "    </tr>\n",
              "    <tr>\n",
              "      <th>35</th>\n",
              "      <td>12/761,791</td>\n",
              "      <td>2016-09-21_2015004400_DECISION.pdf.txt</td>\n",
              "      <td>we affirm.</td>\n",
              "      <td>affirm.</td>\n",
              "    </tr>\n",
              "    <tr>\n",
              "      <th>36</th>\n",
              "      <td>12/707,753</td>\n",
              "      <td>2016-09-21_2015004526_DECISION.pdf.txt</td>\n",
              "      <td>we affirm.</td>\n",
              "      <td>affirm.</td>\n",
              "    </tr>\n",
              "    <tr>\n",
              "      <th>37</th>\n",
              "      <td>13/291,075</td>\n",
              "      <td>2016-09-21_2015004626_DECISION.pdf.txt</td>\n",
              "      <td>we affirm.</td>\n",
              "      <td>affirm.</td>\n",
              "    </tr>\n",
              "    <tr>\n",
              "      <th>38</th>\n",
              "      <td>12/991,502</td>\n",
              "      <td>2016-09-21_2015004677_DECISION.pdf.txt</td>\n",
              "      <td>we reverse.</td>\n",
              "      <td>reverse.</td>\n",
              "    </tr>\n",
              "    <tr>\n",
              "      <th>39</th>\n",
              "      <td>13/002,652</td>\n",
              "      <td>2016-09-21_2015004840_DECISION.pdf.txt</td>\n",
              "      <td>we reverse.</td>\n",
              "      <td>reverse.</td>\n",
              "    </tr>\n",
              "    <tr>\n",
              "      <th>40</th>\n",
              "      <td>12/765,192</td>\n",
              "      <td>2016-09-21_2015004973_DECISION.pdf.txt</td>\n",
              "      <td>we affirm.</td>\n",
              "      <td>affirm.</td>\n",
              "    </tr>\n",
              "    <tr>\n",
              "      <th>41</th>\n",
              "      <td>12/972,756</td>\n",
              "      <td>2016-09-21_2015005024_DECISION.pdf.txt</td>\n",
              "      <td>we affirm.</td>\n",
              "      <td>affirm.</td>\n",
              "    </tr>\n",
              "    <tr>\n",
              "      <th>42</th>\n",
              "      <td>12/869,871</td>\n",
              "      <td>2016-09-21_2015005324_DECISION.pdf.txt</td>\n",
              "      <td>we affirm-in-part.</td>\n",
              "      <td>affirm-in-part.</td>\n",
              "    </tr>\n",
              "    <tr>\n",
              "      <th>43</th>\n",
              "      <td>13/355,862</td>\n",
              "      <td>2016-09-21_2015005360_DECISION.pdf.txt</td>\n",
              "      <td>we affirm.</td>\n",
              "      <td>affirm.</td>\n",
              "    </tr>\n",
              "    <tr>\n",
              "      <th>44</th>\n",
              "      <td>13/449,080</td>\n",
              "      <td>2016-09-21_2015005460_DECISION.pdf.txt</td>\n",
              "      <td>we affirm.</td>\n",
              "      <td>affirm.</td>\n",
              "    </tr>\n",
              "    <tr>\n",
              "      <th>45</th>\n",
              "      <td>13/628,421</td>\n",
              "      <td>2016-09-21_2015005462_DECISION.pdf.txt</td>\n",
              "      <td>we affirm.</td>\n",
              "      <td>affirm.</td>\n",
              "    </tr>\n",
              "    <tr>\n",
              "      <th>46</th>\n",
              "      <td></td>\n",
              "      <td>2016-09-21_2015005606_DECISION.pdf.txt</td>\n",
              "      <td>we reverse.</td>\n",
              "      <td>reverse.</td>\n",
              "    </tr>\n",
              "    <tr>\n",
              "      <th>47</th>\n",
              "      <td>12/828,368</td>\n",
              "      <td>2016-09-21_2015005715_DECISION.pdf.txt</td>\n",
              "      <td>we affirm.</td>\n",
              "      <td>affirm.</td>\n",
              "    </tr>\n",
              "    <tr>\n",
              "      <th>48</th>\n",
              "      <td>12/940,075</td>\n",
              "      <td>2016-09-21_2015005799_DECISION.pdf.txt</td>\n",
              "      <td>we affirm.</td>\n",
              "      <td>affirm.</td>\n",
              "    </tr>\n",
              "    <tr>\n",
              "      <th>49</th>\n",
              "      <td>13/028,595</td>\n",
              "      <td>2016-09-21_2015006551_DECISION.pdf.txt</td>\n",
              "      <td>we affirm.</td>\n",
              "      <td>affirm.</td>\n",
              "    </tr>\n",
              "    <tr>\n",
              "      <th>50</th>\n",
              "      <td>12/071,005</td>\n",
              "      <td>2016-09-21_2015006713_DECISION.pdf.txt</td>\n",
              "      <td>we affirm-in-part.</td>\n",
              "      <td>affirm-in-part.</td>\n",
              "    </tr>\n",
              "    <tr>\n",
              "      <th>51</th>\n",
              "      <td>13/203,298</td>\n",
              "      <td>2016-09-21_2015006764_DECISION.pdf.txt</td>\n",
              "      <td>we affirm-in-part.</td>\n",
              "      <td>affirm-in-part.</td>\n",
              "    </tr>\n",
              "    <tr>\n",
              "      <th>52</th>\n",
              "      <td>14/134,697</td>\n",
              "      <td>2016-09-21_2015006941_DECISION.pdf.txt</td>\n",
              "      <td>we affirm.</td>\n",
              "      <td>affirm.</td>\n",
              "    </tr>\n",
              "    <tr>\n",
              "      <th>53</th>\n",
              "      <td>13/126,666</td>\n",
              "      <td>2016-09-21_2015007025_DECISION.pdf.txt</td>\n",
              "      <td>we affirm-in-part.</td>\n",
              "      <td>affirm-in-part.</td>\n",
              "    </tr>\n",
              "    <tr>\n",
              "      <th>54</th>\n",
              "      <td>12/701,823</td>\n",
              "      <td>2016-09-21_2015007128_DECISION.pdf.txt</td>\n",
              "      <td>we affirm.</td>\n",
              "      <td>affirm.</td>\n",
              "    </tr>\n",
              "    <tr>\n",
              "      <th>55</th>\n",
              "      <td>13/679,979</td>\n",
              "      <td>2016-09-21_2016006751_DECISION.pdf.txt</td>\n",
              "      <td>we affirm-in-part.</td>\n",
              "      <td>affirm-in-part.</td>\n",
              "    </tr>\n",
              "    <tr>\n",
              "      <th>56</th>\n",
              "      <td>13/910,688</td>\n",
              "      <td>2016-09-21_2016006860_DECISION.pdf.txt</td>\n",
              "      <td>we affirm.</td>\n",
              "      <td>affirm.</td>\n",
              "    </tr>\n",
              "    <tr>\n",
              "      <th>57</th>\n",
              "      <td>14/177,997</td>\n",
              "      <td>2016-09-21_2016007145_DECISION.pdf.txt</td>\n",
              "      <td>we reverse.</td>\n",
              "      <td>reverse.</td>\n",
              "    </tr>\n",
              "    <tr>\n",
              "      <th>58</th>\n",
              "      <td>90/013,418</td>\n",
              "      <td>2016-09-21_2016007605_RECONSIDERATION.pdf.txt</td>\n",
              "      <td></td>\n",
              "      <td></td>\n",
              "    </tr>\n",
              "    <tr>\n",
              "      <th>59</th>\n",
              "      <td></td>\n",
              "      <td>2016-09-21_IPR2014-00790 RR.pdf.txt</td>\n",
              "      <td></td>\n",
              "      <td></td>\n",
              "    </tr>\n",
              "  </tbody>\n",
              "</table>\n",
              "</div>"
            ],
            "text/plain": [
              "   Application No.  ...                           Decision\n",
              "0       13/229,379  ...                            affirm.\n",
              "1       11/720,384  ...                            affirm.\n",
              "2       12/958,103  ...                            affirm.\n",
              "3       10/900,415  ...                            affirm.\n",
              "4       11/855,922  ...                    affirm-in-part.\n",
              "5       14/013,135  ...                    affirm-in-part.\n",
              "6       13/518,963  ...                            affirm.\n",
              "7       13/482,029  ...                            affirm.\n",
              "8       12/748,141  ...  reverse for reasons given by lam.\n",
              "9       13/130,672  ...                           reverse.\n",
              "10      11/968,278  ...                           reverse.\n",
              "11      12/016,324  ...                            affirm.\n",
              "12      13/126,914  ...                            affirm.\n",
              "13      11/966,887  ...                           reverse.\n",
              "14      12/131,395  ...                            affirm.\n",
              "15      12/808,013  ...                            affirm.\n",
              "16      12/738,306  ...                            affirm.\n",
              "17      13/165,769  ...                    affirm in part.\n",
              "18      12/964,362  ...                           reverse.\n",
              "19      12/632,943  ...                            affirm.\n",
              "20      12/978,859  ...                    affirm-in-part.\n",
              "21      13/164,267  ...                           reverse.\n",
              "22      13/309,039  ...                            affirm.\n",
              "23      13/490,020  ...                                   \n",
              "24      13/223,313  ...                            affirm.\n",
              "25      13/332,812  ...                            affirm.\n",
              "26      12/255,439  ...                            affirm.\n",
              "27      12/989,822  ...                            affirm.\n",
              "28      13/384,764  ...                    affirm-in-part.\n",
              "29      12/362,664  ...                            affirm.\n",
              "30      13/381,078  ...                                   \n",
              "31      13/030,273  ...                                   \n",
              "32      12/933,092  ...     reverse the stated rejections.\n",
              "33      10/733,727  ...                            affirm.\n",
              "34      13/356,766  ...                            affirm.\n",
              "35      12/761,791  ...                            affirm.\n",
              "36      12/707,753  ...                            affirm.\n",
              "37      13/291,075  ...                            affirm.\n",
              "38      12/991,502  ...                           reverse.\n",
              "39      13/002,652  ...                           reverse.\n",
              "40      12/765,192  ...                            affirm.\n",
              "41      12/972,756  ...                            affirm.\n",
              "42      12/869,871  ...                    affirm-in-part.\n",
              "43      13/355,862  ...                            affirm.\n",
              "44      13/449,080  ...                            affirm.\n",
              "45      13/628,421  ...                            affirm.\n",
              "46                  ...                           reverse.\n",
              "47      12/828,368  ...                            affirm.\n",
              "48      12/940,075  ...                            affirm.\n",
              "49      13/028,595  ...                            affirm.\n",
              "50      12/071,005  ...                    affirm-in-part.\n",
              "51      13/203,298  ...                    affirm-in-part.\n",
              "52      14/134,697  ...                            affirm.\n",
              "53      13/126,666  ...                    affirm-in-part.\n",
              "54      12/701,823  ...                            affirm.\n",
              "55      13/679,979  ...                    affirm-in-part.\n",
              "56      13/910,688  ...                            affirm.\n",
              "57      14/177,997  ...                           reverse.\n",
              "58      90/013,418  ...                                   \n",
              "59                  ...                                   \n",
              "\n",
              "[60 rows x 4 columns]"
            ]
          },
          "metadata": {},
          "execution_count": 15
        }
      ]
    },
    {
      "cell_type": "code",
      "metadata": {
        "id": "dgSfurGKsEib"
      },
      "source": [],
      "execution_count": null,
      "outputs": []
    }
  ]
}