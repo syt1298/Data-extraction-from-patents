{
  "nbformat": 4,
  "nbformat_minor": 0,
  "metadata": {
    "colab": {
      "provenance": [],
      "include_colab_link": true
    },
    "kernelspec": {
      "display_name": "Python 3",
      "name": "python3"
    },
    "language_info": {
      "name": "python"
    }
  },
  "cells": [
    {
      "cell_type": "markdown",
      "metadata": {
        "id": "view-in-github",
        "colab_type": "text"
      },
      "source": [
        "<a href=\"https://colab.research.google.com/github/syt1298/Data-extraction-from-patents/blob/main/Cosine_Similarity_Test.ipynb\" target=\"_parent\"><img src=\"https://colab.research.google.com/assets/colab-badge.svg\" alt=\"Open In Colab\"/></a>"
      ]
    },
    {
      "cell_type": "markdown",
      "metadata": {
        "id": "UXmYZk7QAcQs"
      },
      "source": [
        "#Data Fetching from PTAB"
      ]
    },
    {
      "cell_type": "code",
      "metadata": {
        "colab": {
          "base_uri": "https://localhost:8080/"
        },
        "id": "iJ9LqkgW5Rif",
        "outputId": "b0e5fc72-d173-4748-df93-25d32195a05b"
      },
      "source": [
        "import os\n",
        "import requests\n",
        "import datetime\n",
        "import time\n",
        "\n",
        "from google.colab import drive\n",
        "drive.mount(\"/content/drive\")"
      ],
      "execution_count": null,
      "outputs": [
        {
          "output_type": "stream",
          "name": "stdout",
          "text": [
            "Mounted at /content/drive\n"
          ]
        }
      ]
    },
    {
      "cell_type": "code",
      "metadata": {
        "colab": {
          "base_uri": "https://localhost:8080/"
        },
        "id": "qf0W8f1m5grd",
        "outputId": "af755fca-5032-4206-fb3b-e17ce51f8d41"
      },
      "source": [
        "%cd /content/drive/MyDrive/Project\\ Data/DATA\\ 2014-15/Txt\\ Files/\n",
        "#%ls"
      ],
      "execution_count": null,
      "outputs": [
        {
          "output_type": "stream",
          "name": "stdout",
          "text": [
            "/content/drive/MyDrive/Project Data/DATA 2014-15/Txt Files\n"
          ]
        }
      ]
    },
    {
      "cell_type": "code",
      "metadata": {
        "colab": {
          "base_uri": "https://localhost:8080/",
          "height": 35
        },
        "id": "MTAFqvdH5kJH",
        "outputId": "975ba8d3-a0dc-4208-84d9-844e1683e3b4"
      },
      "source": [
        "%pwd"
      ],
      "execution_count": null,
      "outputs": [
        {
          "output_type": "execute_result",
          "data": {
            "application/vnd.google.colaboratory.intrinsic+json": {
              "type": "string"
            },
            "text/plain": [
              "'/content/drive/MyDrive/Project Data/DATA 2014-15/Txt Files'"
            ]
          },
          "metadata": {},
          "execution_count": 95
        }
      ]
    },
    {
      "cell_type": "code",
      "metadata": {
        "id": "AwawN6aPTwD8"
      },
      "source": [
        "DIR  = '/content/drive/MyDrive/Project Data/DATA 2014-15/Txt Files'\n",
        "Txts = sorted([name for name in os.listdir(DIR) if os.path.isfile(os.path.join(DIR, name))])\n"
      ],
      "execution_count": null,
      "outputs": []
    },
    {
      "cell_type": "code",
      "metadata": {
        "id": "HGUCUqQVe4o4"
      },
      "source": [
        "import numpy as np"
      ],
      "execution_count": null,
      "outputs": []
    },
    {
      "cell_type": "code",
      "metadata": {
        "id": "-X8uDV1GXtvE"
      },
      "source": [
        "from sklearn.feature_extraction.text import TfidfVectorizer\n",
        "\n",
        "import regex as re\n",
        "import pandas as pd"
      ],
      "execution_count": null,
      "outputs": []
    },
    {
      "cell_type": "code",
      "metadata": {
        "id": "qi9nRnYLwbt-"
      },
      "source": [
        "Txt_train = []\n",
        "Txt_test = []\n",
        "Corpus = []\n",
        "Query = []\n",
        "App_Corpus = []\n",
        "App_Query = []"
      ],
      "execution_count": null,
      "outputs": []
    },
    {
      "cell_type": "code",
      "metadata": {
        "id": "R2xV5yfqylMM"
      },
      "source": [
        "for Txt in Txts:\n",
        "    f_obj = open('/content/drive/MyDrive/Project Data/DATA 2014-15/Txt Files/'+Txt,\"r\")\n",
        "    TEXT = f_obj.read().replace(\"\\n\",\" \")\n",
        "    try:\n",
        "        app_no = str(re.search(\"[0-9]{2}\\/[0-9]{3},[0-9]{3}\",TEXT).captures()[0]).strip()\n",
        "    except:\n",
        "        app_no = \"\"\n",
        "    if Txt[:10]<\"2015-12-01\" :\n",
        "        if app_no != \"\":\n",
        "            App_Corpus.append(app_no)\n",
        "            Txt_train.append(Txt)\n",
        "            Corpus.append(TEXT)\n",
        "    else:\n",
        "        App_Query.append(app_no)\n",
        "        Txt_test.append(Txt)\n",
        "        Query.append(TEXT)"
      ],
      "execution_count": null,
      "outputs": []
    },
    {
      "cell_type": "code",
      "metadata": {
        "colab": {
          "base_uri": "https://localhost:8080/"
        },
        "id": "FxUFts6fylIv",
        "outputId": "16d2de50-b51a-4a94-9936-288ae5e14b85"
      },
      "source": [
        "len(Corpus)"
      ],
      "execution_count": null,
      "outputs": [
        {
          "output_type": "execute_result",
          "data": {
            "text/plain": [
              "616"
            ]
          },
          "metadata": {},
          "execution_count": 177
        }
      ]
    },
    {
      "cell_type": "code",
      "metadata": {
        "colab": {
          "base_uri": "https://localhost:8080/"
        },
        "id": "lYWEiXEsylGS",
        "outputId": "9af68f24-423c-41de-8edc-5a7ff76eab47"
      },
      "source": [
        "len(Query)"
      ],
      "execution_count": null,
      "outputs": [
        {
          "output_type": "execute_result",
          "data": {
            "text/plain": [
              "500"
            ]
          },
          "metadata": {},
          "execution_count": 178
        }
      ]
    },
    {
      "cell_type": "code",
      "metadata": {
        "colab": {
          "base_uri": "https://localhost:8080/"
        },
        "id": "ZGTQSY-w3H07",
        "outputId": "b854ae58-cabf-43e2-c44e-0f8d9b27a4f0"
      },
      "source": [
        "len(Txt_test)"
      ],
      "execution_count": null,
      "outputs": [
        {
          "output_type": "execute_result",
          "data": {
            "text/plain": [
              "500"
            ]
          },
          "metadata": {},
          "execution_count": 179
        }
      ]
    },
    {
      "cell_type": "code",
      "metadata": {
        "id": "6IkeuKzpX1XS"
      },
      "source": [
        "vectorizer = TfidfVectorizer()\n",
        "X = vectorizer.fit_transform(Corpus)"
      ],
      "execution_count": null,
      "outputs": []
    },
    {
      "cell_type": "code",
      "metadata": {
        "id": "5Ok5Ok_HfSUU"
      },
      "source": [
        "Y = vectorizer.transform(Query)"
      ],
      "execution_count": null,
      "outputs": []
    },
    {
      "cell_type": "code",
      "metadata": {
        "id": "oWk_CzGylJGi"
      },
      "source": [
        "y_hat = np.matmul(X.toarray(),Y.toarray().transpose())"
      ],
      "execution_count": null,
      "outputs": []
    },
    {
      "cell_type": "code",
      "metadata": {
        "id": "Rsmw1apLBcxk"
      },
      "source": [
        "priors = np.argwhere(y_hat.transpose()>0.55)"
      ],
      "execution_count": null,
      "outputs": []
    },
    {
      "cell_type": "code",
      "metadata": {
        "id": "hF2I6aj_IgVg"
      },
      "source": [
        "prior_ref = dict()\n",
        "for prior in priors:\n",
        "    if prior[0] not in prior_ref:\n",
        "        prior_ref[prior[0]] = []\n",
        "    prior_ref[prior[0]].append(prior[1])"
      ],
      "execution_count": null,
      "outputs": []
    },
    {
      "cell_type": "code",
      "metadata": {
        "colab": {
          "base_uri": "https://localhost:8080/"
        },
        "id": "fK1ULiaWylD-",
        "outputId": "2caa3c0a-96d6-419f-975c-dbbafca540de"
      },
      "source": [
        "print(np.min(y_hat),np.quantile(y_hat,0.25),np.mean(y_hat),np.median(y_hat),np.quantile(y_hat,0.75),np.max(y_hat))"
      ],
      "execution_count": null,
      "outputs": [
        {
          "output_type": "stream",
          "name": "stdout",
          "text": [
            "0.0 0.19839571755744512 0.24823346888463643 0.2462727382560068 0.2967704783269334 0.7813572160307996\n"
          ]
        }
      ]
    },
    {
      "cell_type": "code",
      "metadata": {
        "colab": {
          "base_uri": "https://localhost:8080/"
        },
        "id": "DU3zimbFD2W2",
        "outputId": "825fdbc6-cd57-4483-d1e5-0c1907d1c16d"
      },
      "source": [
        "np.quantile(y_hat,0.75) + 1.5 *(np.quantile(y_hat,0.75)-np.quantile(y_hat,0.25))"
      ],
      "execution_count": null,
      "outputs": [
        {
          "output_type": "execute_result",
          "data": {
            "text/plain": [
              "0.44433261948116576"
            ]
          },
          "metadata": {},
          "execution_count": 213
        }
      ]
    },
    {
      "cell_type": "code",
      "metadata": {
        "id": "GIGoJJpu2b74"
      },
      "source": [
        "files = pd.DataFrame(columns=[\"Application Number\",\"Doc Name\",\"PriorArt App No\",\"PriorArt Doc Name\"])"
      ],
      "execution_count": null,
      "outputs": []
    },
    {
      "cell_type": "code",
      "metadata": {
        "id": "9wCLQZo13Amn"
      },
      "source": [
        "for i in range(len(Query)):\n",
        "    if i in prior_ref:\n",
        "        for prior in prior_ref[i]:\n",
        "            files = files.append({\"Application Number\":App_Query[i],\"Doc Name\" :Txt_test[i],\"PriorArt App No\":App_Corpus[prior],\"PriorArt Doc Name\":Txt_train[prior]},ignore_index=True)\n",
        "    files = files.append({\"Application Number\":App_Query[i],\"Doc Name\" :Txt_test[i],\"PriorArt App No\":pd.NA,\"PriorArt Doc Name\":pd.NA},ignore_index=True)"
      ],
      "execution_count": null,
      "outputs": []
    },
    {
      "cell_type": "code",
      "metadata": {
        "colab": {
          "base_uri": "https://localhost:8080/",
          "height": 1000
        },
        "id": "HP_G8uZt5TOg",
        "outputId": "9c3daf03-394b-4fdf-838c-1a6ad68d1185"
      },
      "source": [
        "display(files.head(50))"
      ],
      "execution_count": null,
      "outputs": [
        {
          "output_type": "display_data",
          "data": {
            "text/html": [
              "<div>\n",
              "<style scoped>\n",
              "    .dataframe tbody tr th:only-of-type {\n",
              "        vertical-align: middle;\n",
              "    }\n",
              "\n",
              "    .dataframe tbody tr th {\n",
              "        vertical-align: top;\n",
              "    }\n",
              "\n",
              "    .dataframe thead th {\n",
              "        text-align: right;\n",
              "    }\n",
              "</style>\n",
              "<table border=\"1\" class=\"dataframe\">\n",
              "  <thead>\n",
              "    <tr style=\"text-align: right;\">\n",
              "      <th></th>\n",
              "      <th>Application Number</th>\n",
              "      <th>Doc Name</th>\n",
              "      <th>PriorArt App No</th>\n",
              "      <th>PriorArt Doc Name</th>\n",
              "    </tr>\n",
              "  </thead>\n",
              "  <tbody>\n",
              "    <tr>\n",
              "      <th>0</th>\n",
              "      <td>12/361,413</td>\n",
              "      <td>2015-12-01_2013000538_DECISION.pdf.txt</td>\n",
              "      <td>&lt;NA&gt;</td>\n",
              "      <td>&lt;NA&gt;</td>\n",
              "    </tr>\n",
              "    <tr>\n",
              "      <th>1</th>\n",
              "      <td></td>\n",
              "      <td>2015-12-01_CBM2015-00098 Mot.pdf.txt</td>\n",
              "      <td>&lt;NA&gt;</td>\n",
              "      <td>&lt;NA&gt;</td>\n",
              "    </tr>\n",
              "    <tr>\n",
              "      <th>2</th>\n",
              "      <td></td>\n",
              "      <td>2015-12-01_CBM2015-00101 Mot.pdf.txt</td>\n",
              "      <td>&lt;NA&gt;</td>\n",
              "      <td>&lt;NA&gt;</td>\n",
              "    </tr>\n",
              "    <tr>\n",
              "      <th>3</th>\n",
              "      <td></td>\n",
              "      <td>2015-12-01_CBM2015-00102 Mot.pdf.txt</td>\n",
              "      <td>&lt;NA&gt;</td>\n",
              "      <td>&lt;NA&gt;</td>\n",
              "    </tr>\n",
              "    <tr>\n",
              "      <th>4</th>\n",
              "      <td></td>\n",
              "      <td>2015-12-01_IPR2013-00540 FD-RH.pdf.txt</td>\n",
              "      <td>&lt;NA&gt;</td>\n",
              "      <td>&lt;NA&gt;</td>\n",
              "    </tr>\n",
              "    <tr>\n",
              "      <th>5</th>\n",
              "      <td></td>\n",
              "      <td>2015-12-01_IPR2013-00541 FD-RH.pdf.txt</td>\n",
              "      <td>&lt;NA&gt;</td>\n",
              "      <td>&lt;NA&gt;</td>\n",
              "    </tr>\n",
              "    <tr>\n",
              "      <th>6</th>\n",
              "      <td></td>\n",
              "      <td>2015-12-01_IPR2013-00542 FD-RH.pdf.txt</td>\n",
              "      <td>&lt;NA&gt;</td>\n",
              "      <td>&lt;NA&gt;</td>\n",
              "    </tr>\n",
              "    <tr>\n",
              "      <th>7</th>\n",
              "      <td></td>\n",
              "      <td>2015-12-01_IPR2013-00543 FD-RH.pdf.txt</td>\n",
              "      <td>&lt;NA&gt;</td>\n",
              "      <td>&lt;NA&gt;</td>\n",
              "    </tr>\n",
              "    <tr>\n",
              "      <th>8</th>\n",
              "      <td></td>\n",
              "      <td>2015-12-01_IPR2013-00544 FD-RH.pdf.txt</td>\n",
              "      <td>&lt;NA&gt;</td>\n",
              "      <td>&lt;NA&gt;</td>\n",
              "    </tr>\n",
              "    <tr>\n",
              "      <th>9</th>\n",
              "      <td></td>\n",
              "      <td>2015-12-01_IPR2013-00545 FD-RH.pdf.txt</td>\n",
              "      <td>&lt;NA&gt;</td>\n",
              "      <td>&lt;NA&gt;</td>\n",
              "    </tr>\n",
              "    <tr>\n",
              "      <th>10</th>\n",
              "      <td></td>\n",
              "      <td>2015-12-01_IPR2013-00549 FD-RH.pdf.txt</td>\n",
              "      <td>60/006,634</td>\n",
              "      <td>2015-08-17_IPR2014-00414 FD FINAL.pdf.txt</td>\n",
              "    </tr>\n",
              "    <tr>\n",
              "      <th>11</th>\n",
              "      <td></td>\n",
              "      <td>2015-12-01_IPR2013-00549 FD-RH.pdf.txt</td>\n",
              "      <td>&lt;NA&gt;</td>\n",
              "      <td>&lt;NA&gt;</td>\n",
              "    </tr>\n",
              "    <tr>\n",
              "      <th>12</th>\n",
              "      <td></td>\n",
              "      <td>2015-12-01_IPR2013-00550 FD-RH.pdf.txt</td>\n",
              "      <td>&lt;NA&gt;</td>\n",
              "      <td>&lt;NA&gt;</td>\n",
              "    </tr>\n",
              "    <tr>\n",
              "      <th>13</th>\n",
              "      <td></td>\n",
              "      <td>2015-12-01_IPR2014-00780 FD.pdf.txt</td>\n",
              "      <td>60/006,634</td>\n",
              "      <td>2015-08-17_IPR2014-00414 FD FINAL.pdf.txt</td>\n",
              "    </tr>\n",
              "    <tr>\n",
              "      <th>14</th>\n",
              "      <td></td>\n",
              "      <td>2015-12-01_IPR2014-00780 FD.pdf.txt</td>\n",
              "      <td>&lt;NA&gt;</td>\n",
              "      <td>&lt;NA&gt;</td>\n",
              "    </tr>\n",
              "    <tr>\n",
              "      <th>15</th>\n",
              "      <td>12/964,055</td>\n",
              "      <td>2015-12-02_2013006563_DECISION.pdf.txt</td>\n",
              "      <td>&lt;NA&gt;</td>\n",
              "      <td>&lt;NA&gt;</td>\n",
              "    </tr>\n",
              "    <tr>\n",
              "      <th>16</th>\n",
              "      <td></td>\n",
              "      <td>2015-12-02_IPR2014-00815 FWD ready for mailing...</td>\n",
              "      <td>&lt;NA&gt;</td>\n",
              "      <td>&lt;NA&gt;</td>\n",
              "    </tr>\n",
              "    <tr>\n",
              "      <th>17</th>\n",
              "      <td>11/777,168</td>\n",
              "      <td>2015-12-02_IPR2014-00824 Final Decision.pdf.txt</td>\n",
              "      <td>10/135,878</td>\n",
              "      <td>2015-09-11_IPR2014-00493 Final Decision.pdf.txt</td>\n",
              "    </tr>\n",
              "    <tr>\n",
              "      <th>18</th>\n",
              "      <td>11/777,168</td>\n",
              "      <td>2015-12-02_IPR2014-00824 Final Decision.pdf.txt</td>\n",
              "      <td>10/135,878</td>\n",
              "      <td>2015-09-11_IPR2014-00749 Final Decision.pdf.txt</td>\n",
              "    </tr>\n",
              "    <tr>\n",
              "      <th>19</th>\n",
              "      <td>11/777,168</td>\n",
              "      <td>2015-12-02_IPR2014-00824 Final Decision.pdf.txt</td>\n",
              "      <td>&lt;NA&gt;</td>\n",
              "      <td>&lt;NA&gt;</td>\n",
              "    </tr>\n",
              "    <tr>\n",
              "      <th>20</th>\n",
              "      <td>10/642,532</td>\n",
              "      <td>2015-12-02_IPR2014-00825 Final Decision.pdf.txt</td>\n",
              "      <td>10/135,878</td>\n",
              "      <td>2015-09-11_IPR2014-00493 Final Decision.pdf.txt</td>\n",
              "    </tr>\n",
              "    <tr>\n",
              "      <th>21</th>\n",
              "      <td>10/642,532</td>\n",
              "      <td>2015-12-02_IPR2014-00825 Final Decision.pdf.txt</td>\n",
              "      <td>10/135,878</td>\n",
              "      <td>2015-09-11_IPR2014-00749 Final Decision.pdf.txt</td>\n",
              "    </tr>\n",
              "    <tr>\n",
              "      <th>22</th>\n",
              "      <td>10/642,532</td>\n",
              "      <td>2015-12-02_IPR2014-00825 Final Decision.pdf.txt</td>\n",
              "      <td>&lt;NA&gt;</td>\n",
              "      <td>&lt;NA&gt;</td>\n",
              "    </tr>\n",
              "    <tr>\n",
              "      <th>23</th>\n",
              "      <td></td>\n",
              "      <td>2015-12-02_IPR2015-00833 - Joint Motion to Ter...</td>\n",
              "      <td>&lt;NA&gt;</td>\n",
              "      <td>&lt;NA&gt;</td>\n",
              "    </tr>\n",
              "    <tr>\n",
              "      <th>24</th>\n",
              "      <td></td>\n",
              "      <td>2015-12-02_IPR2015-01090 - Joint Motion to Ter...</td>\n",
              "      <td>&lt;NA&gt;</td>\n",
              "      <td>&lt;NA&gt;</td>\n",
              "    </tr>\n",
              "    <tr>\n",
              "      <th>25</th>\n",
              "      <td></td>\n",
              "      <td>2015-12-02_IPR2015-01231 - DDI (ready for mail...</td>\n",
              "      <td>&lt;NA&gt;</td>\n",
              "      <td>&lt;NA&gt;</td>\n",
              "    </tr>\n",
              "    <tr>\n",
              "      <th>26</th>\n",
              "      <td></td>\n",
              "      <td>2015-12-03_CBM2015-00098 Mot.pdf.txt</td>\n",
              "      <td>&lt;NA&gt;</td>\n",
              "      <td>&lt;NA&gt;</td>\n",
              "    </tr>\n",
              "    <tr>\n",
              "      <th>27</th>\n",
              "      <td></td>\n",
              "      <td>2015-12-03_CBM2015-00101 Mot.pdf.txt</td>\n",
              "      <td>&lt;NA&gt;</td>\n",
              "      <td>&lt;NA&gt;</td>\n",
              "    </tr>\n",
              "    <tr>\n",
              "      <th>28</th>\n",
              "      <td></td>\n",
              "      <td>2015-12-03_CBM2015-00102 Mot.pdf.txt</td>\n",
              "      <td>&lt;NA&gt;</td>\n",
              "      <td>&lt;NA&gt;</td>\n",
              "    </tr>\n",
              "    <tr>\n",
              "      <th>29</th>\n",
              "      <td></td>\n",
              "      <td>2015-12-03_IPR2014-00916 Final Written Decisio...</td>\n",
              "      <td>&lt;NA&gt;</td>\n",
              "      <td>&lt;NA&gt;</td>\n",
              "    </tr>\n",
              "    <tr>\n",
              "      <th>30</th>\n",
              "      <td></td>\n",
              "      <td>2015-12-03_IPR2014-01292 FWD MAILED.pdf.txt</td>\n",
              "      <td>&lt;NA&gt;</td>\n",
              "      <td>&lt;NA&gt;</td>\n",
              "    </tr>\n",
              "    <tr>\n",
              "      <th>31</th>\n",
              "      <td></td>\n",
              "      <td>2015-12-04_IPR2015-00677; 00678 - Adverse Judg...</td>\n",
              "      <td>&lt;NA&gt;</td>\n",
              "      <td>&lt;NA&gt;</td>\n",
              "    </tr>\n",
              "    <tr>\n",
              "      <th>32</th>\n",
              "      <td></td>\n",
              "      <td>2015-12-04_IPR2015-00999 1001 Decision on Moti...</td>\n",
              "      <td>&lt;NA&gt;</td>\n",
              "      <td>&lt;NA&gt;</td>\n",
              "    </tr>\n",
              "    <tr>\n",
              "      <th>33</th>\n",
              "      <td>10/236,348</td>\n",
              "      <td>2015-12-04_IPR2015-01526 DI Ready for Mailing....</td>\n",
              "      <td>&lt;NA&gt;</td>\n",
              "      <td>&lt;NA&gt;</td>\n",
              "    </tr>\n",
              "    <tr>\n",
              "      <th>34</th>\n",
              "      <td>11/941,835</td>\n",
              "      <td>2015-12-04_fd105975-12-04-2015-1.pdf.txt</td>\n",
              "      <td>&lt;NA&gt;</td>\n",
              "      <td>&lt;NA&gt;</td>\n",
              "    </tr>\n",
              "    <tr>\n",
              "      <th>35</th>\n",
              "      <td></td>\n",
              "      <td>2015-12-07_14-1529.pdf.txt</td>\n",
              "      <td>&lt;NA&gt;</td>\n",
              "      <td>&lt;NA&gt;</td>\n",
              "    </tr>\n",
              "    <tr>\n",
              "      <th>36</th>\n",
              "      <td>12/793,029</td>\n",
              "      <td>2015-12-07_2013004033_DECISION.pdf.txt</td>\n",
              "      <td>&lt;NA&gt;</td>\n",
              "      <td>&lt;NA&gt;</td>\n",
              "    </tr>\n",
              "    <tr>\n",
              "      <th>37</th>\n",
              "      <td>12/491,727</td>\n",
              "      <td>2015-12-07_2013004110_DECISION.pdf.txt</td>\n",
              "      <td>11/699,766</td>\n",
              "      <td>2015-08-05_CBM2014-00076 FD final.pdf.txt</td>\n",
              "    </tr>\n",
              "    <tr>\n",
              "      <th>38</th>\n",
              "      <td>12/491,727</td>\n",
              "      <td>2015-12-07_2013004110_DECISION.pdf.txt</td>\n",
              "      <td>&lt;NA&gt;</td>\n",
              "      <td>&lt;NA&gt;</td>\n",
              "    </tr>\n",
              "    <tr>\n",
              "      <th>39</th>\n",
              "      <td>11/639,788</td>\n",
              "      <td>2015-12-07_2013004292_DECISION.pdf.txt</td>\n",
              "      <td>&lt;NA&gt;</td>\n",
              "      <td>&lt;NA&gt;</td>\n",
              "    </tr>\n",
              "    <tr>\n",
              "      <th>40</th>\n",
              "      <td>12/435,405</td>\n",
              "      <td>2015-12-07_2013006422_DECISION.pdf.txt</td>\n",
              "      <td>&lt;NA&gt;</td>\n",
              "      <td>&lt;NA&gt;</td>\n",
              "    </tr>\n",
              "    <tr>\n",
              "      <th>41</th>\n",
              "      <td>10/676,287</td>\n",
              "      <td>2015-12-07_2013006456_DECISION.pdf.txt</td>\n",
              "      <td>&lt;NA&gt;</td>\n",
              "      <td>&lt;NA&gt;</td>\n",
              "    </tr>\n",
              "    <tr>\n",
              "      <th>42</th>\n",
              "      <td>11/801,062</td>\n",
              "      <td>2015-12-07_2013009628_DECISION.pdf.txt</td>\n",
              "      <td>&lt;NA&gt;</td>\n",
              "      <td>&lt;NA&gt;</td>\n",
              "    </tr>\n",
              "    <tr>\n",
              "      <th>43</th>\n",
              "      <td>12/688,391</td>\n",
              "      <td>2015-12-07_2013010993_DECISION.pdf.txt</td>\n",
              "      <td>&lt;NA&gt;</td>\n",
              "      <td>&lt;NA&gt;</td>\n",
              "    </tr>\n",
              "    <tr>\n",
              "      <th>44</th>\n",
              "      <td>12/921,154</td>\n",
              "      <td>2015-12-07_2014000369_DECISION.pdf.txt</td>\n",
              "      <td>&lt;NA&gt;</td>\n",
              "      <td>&lt;NA&gt;</td>\n",
              "    </tr>\n",
              "    <tr>\n",
              "      <th>45</th>\n",
              "      <td>12/179,446</td>\n",
              "      <td>2015-12-07_2014001057_DECISION.pdf.txt</td>\n",
              "      <td>&lt;NA&gt;</td>\n",
              "      <td>&lt;NA&gt;</td>\n",
              "    </tr>\n",
              "    <tr>\n",
              "      <th>46</th>\n",
              "      <td>12/839,902</td>\n",
              "      <td>2015-12-07_2014002831_DECISION.pdf.txt</td>\n",
              "      <td>&lt;NA&gt;</td>\n",
              "      <td>&lt;NA&gt;</td>\n",
              "    </tr>\n",
              "    <tr>\n",
              "      <th>47</th>\n",
              "      <td>95/000,514</td>\n",
              "      <td>2015-12-07_2015007617_RECONSIDERATION.pdf.txt</td>\n",
              "      <td>95/002,032</td>\n",
              "      <td>2015-06-24_2014008891_DECISION.pdf.txt</td>\n",
              "    </tr>\n",
              "    <tr>\n",
              "      <th>48</th>\n",
              "      <td>95/000,514</td>\n",
              "      <td>2015-12-07_2015007617_RECONSIDERATION.pdf.txt</td>\n",
              "      <td>95/001,175</td>\n",
              "      <td>2015-07-14_2012006121_DECISION.pdf.txt</td>\n",
              "    </tr>\n",
              "    <tr>\n",
              "      <th>49</th>\n",
              "      <td>95/000,514</td>\n",
              "      <td>2015-12-07_2015007617_RECONSIDERATION.pdf.txt</td>\n",
              "      <td>95/002,378</td>\n",
              "      <td>2015-07-23_2014006493_DECISION.pdf.txt</td>\n",
              "    </tr>\n",
              "  </tbody>\n",
              "</table>\n",
              "</div>"
            ],
            "text/plain": [
              "   Application Number  ...                                PriorArt Doc Name\n",
              "0          12/361,413  ...                                             <NA>\n",
              "1                      ...                                             <NA>\n",
              "2                      ...                                             <NA>\n",
              "3                      ...                                             <NA>\n",
              "4                      ...                                             <NA>\n",
              "5                      ...                                             <NA>\n",
              "6                      ...                                             <NA>\n",
              "7                      ...                                             <NA>\n",
              "8                      ...                                             <NA>\n",
              "9                      ...                                             <NA>\n",
              "10                     ...        2015-08-17_IPR2014-00414 FD FINAL.pdf.txt\n",
              "11                     ...                                             <NA>\n",
              "12                     ...                                             <NA>\n",
              "13                     ...        2015-08-17_IPR2014-00414 FD FINAL.pdf.txt\n",
              "14                     ...                                             <NA>\n",
              "15         12/964,055  ...                                             <NA>\n",
              "16                     ...                                             <NA>\n",
              "17         11/777,168  ...  2015-09-11_IPR2014-00493 Final Decision.pdf.txt\n",
              "18         11/777,168  ...  2015-09-11_IPR2014-00749 Final Decision.pdf.txt\n",
              "19         11/777,168  ...                                             <NA>\n",
              "20         10/642,532  ...  2015-09-11_IPR2014-00493 Final Decision.pdf.txt\n",
              "21         10/642,532  ...  2015-09-11_IPR2014-00749 Final Decision.pdf.txt\n",
              "22         10/642,532  ...                                             <NA>\n",
              "23                     ...                                             <NA>\n",
              "24                     ...                                             <NA>\n",
              "25                     ...                                             <NA>\n",
              "26                     ...                                             <NA>\n",
              "27                     ...                                             <NA>\n",
              "28                     ...                                             <NA>\n",
              "29                     ...                                             <NA>\n",
              "30                     ...                                             <NA>\n",
              "31                     ...                                             <NA>\n",
              "32                     ...                                             <NA>\n",
              "33         10/236,348  ...                                             <NA>\n",
              "34         11/941,835  ...                                             <NA>\n",
              "35                     ...                                             <NA>\n",
              "36         12/793,029  ...                                             <NA>\n",
              "37         12/491,727  ...        2015-08-05_CBM2014-00076 FD final.pdf.txt\n",
              "38         12/491,727  ...                                             <NA>\n",
              "39         11/639,788  ...                                             <NA>\n",
              "40         12/435,405  ...                                             <NA>\n",
              "41         10/676,287  ...                                             <NA>\n",
              "42         11/801,062  ...                                             <NA>\n",
              "43         12/688,391  ...                                             <NA>\n",
              "44         12/921,154  ...                                             <NA>\n",
              "45         12/179,446  ...                                             <NA>\n",
              "46         12/839,902  ...                                             <NA>\n",
              "47         95/000,514  ...           2015-06-24_2014008891_DECISION.pdf.txt\n",
              "48         95/000,514  ...           2015-07-14_2012006121_DECISION.pdf.txt\n",
              "49         95/000,514  ...           2015-07-23_2014006493_DECISION.pdf.txt\n",
              "\n",
              "[50 rows x 4 columns]"
            ]
          },
          "metadata": {}
        }
      ]
    },
    {
      "cell_type": "code",
      "metadata": {
        "id": "cKQSwTkX5cpt",
        "colab": {
          "base_uri": "https://localhost:8080/",
          "height": 842
        },
        "outputId": "1e9de4db-44be-4b1c-e98c-fd47cfad0ae4"
      },
      "source": [
        "f_obj = open('/content/drive/MyDrive/Project Data/DATA 2012-13/Txt Files/2012-01-03_2010004696_DECISION.pdf.txt',\"r\")\n",
        "TEXT = f_obj.read().replace(\"\\n\",\" \")"
      ],
      "execution_count": null,
      "outputs": [
        {
          "output_type": "execute_result",
          "data": {
            "application/vnd.google.colaboratory.intrinsic+json": {
              "type": "string"
            },
            "text/plain": [
              "'UNITED STATES PATENT AND TRADEMARK OFFICE  UNITED STATES DEPARTMENT OF COMMERCE United States Patent and Trademark Office Address: COMMISSIONER FOR PATENTS  P.O. Box 1450 Alexandria, Virginia 22313-1450 www.uspto.gov  APPLICATION NO.  FILING DATE  FIRST NAMED INVENTOR  ATTORNEY DOCKET NO.  CONFIRMATION NO.  11/414,101  04/28/2006  Susan M. Trefethren  64049744US01 (22312)  3559  7590  01/04/2012  23556 KIMBERLY-CLARK WORLDWIDE, INC. Tara Pohlkotte 2300 Winchester Rd. NEENAH, WI 54956  EXAMINER  OHERN, BRENT T  ART UNIT  PAPER NUMBER  1783  MAIL DATE  DELIVERY MODE  01/04/2012  PAPER  Please find below and/or attached an Office communication concerning this application or proceeding.  The time period for reply, if any, is set in the attached communication.  PTOL-90A (Rev. 04/07)  \\x0cUNITED STATES PATENT AND TRADEMARK OFFICE  ____________________    BEFORE THE BOARD OF PATENT APPEALS  AND INTERFERENCES  ____________________      Ex parte SUSAN M. TREFETHREN, JONATHAN K.  ARENDT, CARL G. RIPPL, MICHAEL T. KREBSBACH,  COURTNEY B. DE SALVATORE, and SHERRY H.  HUDSON  ____________________    Appeal 2010-004696  Application 11/414,101  Technology Center 1700         ____________________   Before CATHERINE Q. TIMM, MARK NAGUMO, and KAREN M.  HASTINGS, Administrative Patent Judges.    TIMM, Administrative Patent Judge.         DECISION ON APPEAL                        \\x0cAppeal 2010-004696  Application 11/414,101     We AFFIRM.   Appellants appeal under 35 U.S.C. § 134 from the Examiner’s   rejection of claims 1-4.  We have jurisdiction under 35 U.S.C. § 6(b).   The Examiner maintains two rejections, a rejection of claim 3 under   35 U.S.C. § 112, ¶ 2, and a rejection of claims 1-4 under 35 U.S.C. § 102(b)   as anticipated by or, in the alternative, under 35 U.S.C. § 103(a) as obvious  over Yamashita1.   However, Appellants present arguments only for the   rejection of claims 1-4 over Yamashita.  As Appellants have not shown that   the Examiner erred in rejecting claim 3 under 35 U.S.C. § 112, ¶ 2, we   summarily affirm that rejection.   Turning to the rejection of claims 1-4 over Yamashita, we note that   Appellants do not argue any claim apart from the others.  We select claim 1   as representative for deciding the issues arising for that rejection.   Claim 1 reads as follows:   1.  A cleaning composite comprising melamine-based  foam having one or more lines of frangibility that divide the  cleaning composite into rows of rectangular shaped pieces, with  each row having a common line of frangibility.   (Claims App. at Br. 6.)   There is no dispute that Yamashita describes a cleaning tool having a   melamine resin foam body (abrasive member 3) (Yamashita, ¶ (0008)).    These cleaning tools are formed from the unfolded cleaning tool shown in   Figure 1.  Figure 1 is reproduced below:                                                               1 Yamashita, JP 2001/169985, pub. Jun. 26, 2001, as translated.  We rely  upon and cite to the translation made of record Dec. 01, 2009.    2   \\x0ceal 2010-0 lication 11  004696  1/414,101   App App    Oblique   view of cl  leaning too  ol 1 before       e it is folde  d    There is   further no  o dispute th  hat Yamash  hita’s Figu  ure 4 depict  ts rows of   the u  unfolded cl  leaning too  ols 1 befor  e they are   separated,   and that Y  Yamashita   teach  hes or rend  ders obviou  us lines of   frangibilit  ty running   between th  g  he cleaning  tools  s 1.  Figure  e 4 is repro  oduced belo  ow:      Obli  que view o  of multiple separated  e uncut clea d from each  aning tools h other   s 1 before   they are      Rather, A  Appellants  s argue tha  t a claimed  d element i  is complet  ely missin  g   from  m Yamashit  ta, namely  , the “com  mmon line o  of frangibil  lity” (Br. 4  4).    Acco  ording to A  Appellants,  , this “com  mmon line o  of frangibi  ility” is a s  eparate   line   of frangibi  ility cutting  g across th  he columns  s formed by  y the paral  f  llel lines of  frang  gibility as   shown in A  Appellants  s’ demonstr  rative draw  wing below  w:   3   \\x0ceal 2010-0 lication 11  004696  1/414,101   App App    6).                  De  monstrativ  ve Drawing frangi  g (cf. Fig. 3 ibility (Br.   3)showing 3)   g common l  line of   The Exa  aminer, how  wever, find  ds that the   lines of fra  angibility Y  a  Yamashita  depi  cts in Figu  ure 4 read o  on the claim  med “comm  mon line o  of frangibil  lity” (Ans.   The und  derlying iss  sue, therefo  ore, is one   of claim in  nterpretatio  on: What i  is   the m  meaning of  f “common  n line of fra  angibility”  ” when that  t language   is given it  ts   broa  adest reason  nable inter  rpretation c  consistent w  with the Sp  pecificatio  on, and doe  es   it en  ncompass th  he lines of   f frangibilit  ty taught b  by Yamash  hita?   The fact  ts relevant   to this que  estion are a  as follows.     The Spe  ecification m  mentions a  a “common  n line of fr  rangibility”  ” in only   one l  location: a  at page 15 o  of the Spec  cification.    According  g to this po  ortion of   the S  Specificatio  on,    Th he placeme changed to also be c d shapes on sizes and d along a l separate depicts a another rep  ent of two  o produce in nce the ini line of fran presentativ  or more lin ndividual f tial foam p ngibility.  F ve version o  nes of fran foam piece piece or blo For examp of a cleanin  ngibility m es of differ ock is  le, Figure  ng compos  may  ring   2  site   4   \\x0cAppeal 2010-004696  Application 11/414,101     comprising lines of frangibility (in this case a rectangular block  having a length of 14.6 centimeters, a width of 6.1 centimeters,  and 4 lines of frangibility spaced apart by a distance of 29.2  millimeters-with each line of frangibility comprising circular  openings having a diameter of 1 millimeter, and spaced apart by  a distance of 1.8 millimeter).  Or, for example, a cleaning block  may have lines of frangibility that divide the block into two  rows of rectangular-shaped pieces, with each row having one  common line of frangibility placed centrally along one of the  dimensions of the initial block (e.g., akin to the two rows of  rectangular-shaped pieces of chocolate in a Hershey\\'s®-brand  chocolate bar).   (Spec. 15:13-25 (emphasis added).)  Appellants’ Figure 3, similarly to   Appellants Demonstrative Drawing, shows a line 30 dividing the columns   created by the other lines of frangibility.      The Specification does not define “common line of frangibility” (See   Spec., generally).   During examination, \"claims . . . are to be given their broadest   reasonable interpretation consistent with the specification, and . . . claim   language should be read in light of the specification as it would be   interpreted by one of ordinary skill in the art.\"  In re Am. Acad. of Sci. Tech.   Ctr., 367 F.3d 1359, 1364 (Fed. Cir. 2004).  Absent claim language carrying   a narrow meaning, we only limit the claim based on the specification when   those sources expressly disclaim the broader definition.  In re Bigio, 381   F.3d 1320, 1324-25 (Fed. Cir. 2004).  “[A]s applicants may amend claims to   narrow their scope, a broad construction during prosecution creates no   unfairness to the applicant or patentee.”  In re ICON Health and Fitness,   Inc., 496 F.3d 1374, 1379 (Fed. Cir. 2007).        While the Specification discusses placing a “common line of   frangibility” in a particular orientation that is in concert with Appellants’   5   \\x0cAppeal 2010-004696  Application 11/414,101    Demonstrative Drawing, we cannot say that the claim is particularly limited   to this disclosed orientation.  The Specification does not define “common   line of frangibility,” nor does the Specification otherwise limit the “common   line of frangibility” to only the line in the orientation discussed in the   Specification.  Moreover, the word “common” is not alone descriptive of a   line running perpendicular and dividing the rows created by the other lines   of frangibility.  It is reasonable to interpret “common” as referring to a line   of frangibility common to two rows of melamine based composite if the   rows share the line of frangibility.  This interpretation gives weight to all   words in the claim, without reading limitations from a specific embodiment   into the claim.  Therefore, we agree with the Examiner that the “common   line of frangibility” of the claim encompasses one of the lines of frangibility   taught by Yamashita.      We sustain the Examiner’s rejection of claims 1-4 under 35 U.S.C. §   102(b) or, in the alternative, under 35 U.S.C. § 103(a).  We also summarily   sustain the rejection of claim 3 under 35 U.S.C. § 112, ¶ 2.   The Examiner’s decision is affirmed.   DECISION   TIME PERIOD FOR RESPONSE   No time period for taking any subsequent action in connection with   this appeal may be extended under 37 C.F.R. § 1.136(a)(1).         cam   AFFIRMED   6   \\x0c'"
            ]
          },
          "metadata": {},
          "execution_count": 5
        }
      ]
    },
    {
      "cell_type": "code",
      "metadata": {
        "colab": {
          "base_uri": "https://localhost:8080/"
        },
        "id": "1a5Cr14IUe7a",
        "outputId": "36b2ba4b-6916-4d33-ddab-c9248e561a0e"
      },
      "source": [
        "print(TEXT.replace(chr(12),\" \\n \"))"
      ],
      "execution_count": null,
      "outputs": [
        {
          "output_type": "stream",
          "name": "stdout",
          "text": [
            "UNITED STATES PATENT AND TRADEMARK OFFICE  UNITED STATES DEPARTMENT OF COMMERCE United States Patent and Trademark Office Address: COMMISSIONER FOR PATENTS  P.O. Box 1450 Alexandria, Virginia 22313-1450 www.uspto.gov  APPLICATION NO.  FILING DATE  FIRST NAMED INVENTOR  ATTORNEY DOCKET NO.  CONFIRMATION NO.  11/414,101  04/28/2006  Susan M. Trefethren  64049744US01 (22312)  3559  7590  01/04/2012  23556 KIMBERLY-CLARK WORLDWIDE, INC. Tara Pohlkotte 2300 Winchester Rd. NEENAH, WI 54956  EXAMINER  OHERN, BRENT T  ART UNIT  PAPER NUMBER  1783  MAIL DATE  DELIVERY MODE  01/04/2012  PAPER  Please find below and/or attached an Office communication concerning this application or proceeding.  The time period for reply, if any, is set in the attached communication.  PTOL-90A (Rev. 04/07)   \n",
            " UNITED STATES PATENT AND TRADEMARK OFFICE  ____________________    BEFORE THE BOARD OF PATENT APPEALS  AND INTERFERENCES  ____________________      Ex parte SUSAN M. TREFETHREN, JONATHAN K.  ARENDT, CARL G. RIPPL, MICHAEL T. KREBSBACH,  COURTNEY B. DE SALVATORE, and SHERRY H.  HUDSON  ____________________    Appeal 2010-004696  Application 11/414,101  Technology Center 1700         ____________________   Before CATHERINE Q. TIMM, MARK NAGUMO, and KAREN M.  HASTINGS, Administrative Patent Judges.    TIMM, Administrative Patent Judge.         DECISION ON APPEAL                         \n",
            " Appeal 2010-004696  Application 11/414,101     We AFFIRM.   Appellants appeal under 35 U.S.C. § 134 from the Examiner’s   rejection of claims 1-4.  We have jurisdiction under 35 U.S.C. § 6(b).   The Examiner maintains two rejections, a rejection of claim 3 under   35 U.S.C. § 112, ¶ 2, and a rejection of claims 1-4 under 35 U.S.C. § 102(b)   as anticipated by or, in the alternative, under 35 U.S.C. § 103(a) as obvious  over Yamashita1.   However, Appellants present arguments only for the   rejection of claims 1-4 over Yamashita.  As Appellants have not shown that   the Examiner erred in rejecting claim 3 under 35 U.S.C. § 112, ¶ 2, we   summarily affirm that rejection.   Turning to the rejection of claims 1-4 over Yamashita, we note that   Appellants do not argue any claim apart from the others.  We select claim 1   as representative for deciding the issues arising for that rejection.   Claim 1 reads as follows:   1.  A cleaning composite comprising melamine-based  foam having one or more lines of frangibility that divide the  cleaning composite into rows of rectangular shaped pieces, with  each row having a common line of frangibility.   (Claims App. at Br. 6.)   There is no dispute that Yamashita describes a cleaning tool having a   melamine resin foam body (abrasive member 3) (Yamashita, ¶ (0008)).    These cleaning tools are formed from the unfolded cleaning tool shown in   Figure 1.  Figure 1 is reproduced below:                                                               1 Yamashita, JP 2001/169985, pub. Jun. 26, 2001, as translated.  We rely  upon and cite to the translation made of record Dec. 01, 2009.    2    \n",
            " eal 2010-0 lication 11  004696  1/414,101   App App    Oblique   view of cl  leaning too  ol 1 before       e it is folde  d    There is   further no  o dispute th  hat Yamash  hita’s Figu  ure 4 depict  ts rows of   the u  unfolded cl  leaning too  ols 1 befor  e they are   separated,   and that Y  Yamashita   teach  hes or rend  ders obviou  us lines of   frangibilit  ty running   between th  g  he cleaning  tools  s 1.  Figure  e 4 is repro  oduced belo  ow:      Obli  que view o  of multiple separated  e uncut clea d from each  aning tools h other   s 1 before   they are      Rather, A  Appellants  s argue tha  t a claimed  d element i  is complet  ely missin  g   from  m Yamashit  ta, namely  , the “com  mmon line o  of frangibil  lity” (Br. 4  4).    Acco  ording to A  Appellants,  , this “com  mmon line o  of frangibi  ility” is a s  eparate   line   of frangibi  ility cutting  g across th  he columns  s formed by  y the paral  f  llel lines of  frang  gibility as   shown in A  Appellants  s’ demonstr  rative draw  wing below  w:   3    \n",
            " eal 2010-0 lication 11  004696  1/414,101   App App    6).                  De  monstrativ  ve Drawing frangi  g (cf. Fig. 3 ibility (Br.   3)showing 3)   g common l  line of   The Exa  aminer, how  wever, find  ds that the   lines of fra  angibility Y  a  Yamashita  depi  cts in Figu  ure 4 read o  on the claim  med “comm  mon line o  of frangibil  lity” (Ans.   The und  derlying iss  sue, therefo  ore, is one   of claim in  nterpretatio  on: What i  is   the m  meaning of  f “common  n line of fra  angibility”  ” when that  t language   is given it  ts   broa  adest reason  nable inter  rpretation c  consistent w  with the Sp  pecificatio  on, and doe  es   it en  ncompass th  he lines of   f frangibilit  ty taught b  by Yamash  hita?   The fact  ts relevant   to this que  estion are a  as follows.     The Spe  ecification m  mentions a  a “common  n line of fr  rangibility”  ” in only   one l  location: a  at page 15 o  of the Spec  cification.    According  g to this po  ortion of   the S  Specificatio  on,    Th he placeme changed to also be c d shapes on sizes and d along a l separate depicts a another rep  ent of two  o produce in nce the ini line of fran presentativ  or more lin ndividual f tial foam p ngibility.  F ve version o  nes of fran foam piece piece or blo For examp of a cleanin  ngibility m es of differ ock is  le, Figure  ng compos  may  ring   2  site   4    \n",
            " Appeal 2010-004696  Application 11/414,101     comprising lines of frangibility (in this case a rectangular block  having a length of 14.6 centimeters, a width of 6.1 centimeters,  and 4 lines of frangibility spaced apart by a distance of 29.2  millimeters-with each line of frangibility comprising circular  openings having a diameter of 1 millimeter, and spaced apart by  a distance of 1.8 millimeter).  Or, for example, a cleaning block  may have lines of frangibility that divide the block into two  rows of rectangular-shaped pieces, with each row having one  common line of frangibility placed centrally along one of the  dimensions of the initial block (e.g., akin to the two rows of  rectangular-shaped pieces of chocolate in a Hershey's®-brand  chocolate bar).   (Spec. 15:13-25 (emphasis added).)  Appellants’ Figure 3, similarly to   Appellants Demonstrative Drawing, shows a line 30 dividing the columns   created by the other lines of frangibility.      The Specification does not define “common line of frangibility” (See   Spec., generally).   During examination, \"claims . . . are to be given their broadest   reasonable interpretation consistent with the specification, and . . . claim   language should be read in light of the specification as it would be   interpreted by one of ordinary skill in the art.\"  In re Am. Acad. of Sci. Tech.   Ctr., 367 F.3d 1359, 1364 (Fed. Cir. 2004).  Absent claim language carrying   a narrow meaning, we only limit the claim based on the specification when   those sources expressly disclaim the broader definition.  In re Bigio, 381   F.3d 1320, 1324-25 (Fed. Cir. 2004).  “[A]s applicants may amend claims to   narrow their scope, a broad construction during prosecution creates no   unfairness to the applicant or patentee.”  In re ICON Health and Fitness,   Inc., 496 F.3d 1374, 1379 (Fed. Cir. 2007).        While the Specification discusses placing a “common line of   frangibility” in a particular orientation that is in concert with Appellants’   5    \n",
            " Appeal 2010-004696  Application 11/414,101    Demonstrative Drawing, we cannot say that the claim is particularly limited   to this disclosed orientation.  The Specification does not define “common   line of frangibility,” nor does the Specification otherwise limit the “common   line of frangibility” to only the line in the orientation discussed in the   Specification.  Moreover, the word “common” is not alone descriptive of a   line running perpendicular and dividing the rows created by the other lines   of frangibility.  It is reasonable to interpret “common” as referring to a line   of frangibility common to two rows of melamine based composite if the   rows share the line of frangibility.  This interpretation gives weight to all   words in the claim, without reading limitations from a specific embodiment   into the claim.  Therefore, we agree with the Examiner that the “common   line of frangibility” of the claim encompasses one of the lines of frangibility   taught by Yamashita.      We sustain the Examiner’s rejection of claims 1-4 under 35 U.S.C. §   102(b) or, in the alternative, under 35 U.S.C. § 103(a).  We also summarily   sustain the rejection of claim 3 under 35 U.S.C. § 112, ¶ 2.   The Examiner’s decision is affirmed.   DECISION   TIME PERIOD FOR RESPONSE   No time period for taking any subsequent action in connection with   this appeal may be extended under 37 C.F.R. § 1.136(a)(1).         cam   AFFIRMED   6    \n",
            " \n"
          ]
        }
      ]
    }
  ]
}